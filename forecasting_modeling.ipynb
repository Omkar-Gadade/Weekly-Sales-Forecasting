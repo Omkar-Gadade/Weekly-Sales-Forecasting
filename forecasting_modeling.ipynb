{
 "cells": [
  {
   "cell_type": "code",
   "execution_count": 1,
   "id": "7d56b2c1",
   "metadata": {},
   "outputs": [],
   "source": [
    "import pandas as pd\n",
    "from prophet import Prophet\n",
    "from sklearn.metrics import mean_absolute_error\n",
    "import joblib\n",
    "import os"
   ]
  },
  {
   "cell_type": "code",
   "execution_count": 2,
   "id": "0cde054a",
   "metadata": {},
   "outputs": [],
   "source": [
    "import os\n",
    "file_path = os.path.join(\"data\", \"Assessment-2-Associate-DS(in).csv\")\n",
    "df = pd.read_csv(file_path, parse_dates=['weekend_date'])\n"
   ]
  },
  {
   "cell_type": "code",
   "execution_count": 3,
   "id": "ad447db3",
   "metadata": {},
   "outputs": [],
   "source": [
    "# Create output folders\n",
    "os.makedirs(\"models\", exist_ok=True)\n",
    "os.makedirs(\"output\", exist_ok=True)"
   ]
  },
  {
   "cell_type": "code",
   "execution_count": 4,
   "id": "db88e7a0",
   "metadata": {},
   "outputs": [],
   "source": [
    "df.columns = ['weekend_date', 'channel', 'brand', 'category', 'sub_category',\n",
    "       'serial_num', 'quantity']"
   ]
  },
  {
   "cell_type": "code",
   "execution_count": 5,
   "id": "3bce73e5",
   "metadata": {},
   "outputs": [],
   "source": [
    "serial_nums = df['serial_num'].unique()\n",
    "forecast_all = []"
   ]
  },
  {
   "cell_type": "code",
   "execution_count": 6,
   "id": "5b93f5ea",
   "metadata": {},
   "outputs": [],
   "source": [
    "df['weekend_date'] = pd.to_datetime(df['weekend_date'].str.split().str[0], dayfirst=True, errors='coerce')"
   ]
  },
  {
   "cell_type": "code",
   "execution_count": 7,
   "id": "f346cc2f",
   "metadata": {},
   "outputs": [
    {
     "data": {
      "text/html": [
       "<div>\n",
       "<style scoped>\n",
       "    .dataframe tbody tr th:only-of-type {\n",
       "        vertical-align: middle;\n",
       "    }\n",
       "\n",
       "    .dataframe tbody tr th {\n",
       "        vertical-align: top;\n",
       "    }\n",
       "\n",
       "    .dataframe thead th {\n",
       "        text-align: right;\n",
       "    }\n",
       "</style>\n",
       "<table border=\"1\" class=\"dataframe\">\n",
       "  <thead>\n",
       "    <tr style=\"text-align: right;\">\n",
       "      <th></th>\n",
       "      <th>weekend_date</th>\n",
       "      <th>channel</th>\n",
       "      <th>brand</th>\n",
       "      <th>category</th>\n",
       "      <th>sub_category</th>\n",
       "      <th>serial_num</th>\n",
       "      <th>quantity</th>\n",
       "    </tr>\n",
       "  </thead>\n",
       "  <tbody>\n",
       "    <tr>\n",
       "      <th>0</th>\n",
       "      <td>2022-06-04</td>\n",
       "      <td>Channel1</td>\n",
       "      <td>B1</td>\n",
       "      <td>Cat2</td>\n",
       "      <td>Sub-Cat2</td>\n",
       "      <td>1</td>\n",
       "      <td>56</td>\n",
       "    </tr>\n",
       "    <tr>\n",
       "      <th>1</th>\n",
       "      <td>2022-06-11</td>\n",
       "      <td>Channel1</td>\n",
       "      <td>B1</td>\n",
       "      <td>Cat2</td>\n",
       "      <td>Sub-Cat2</td>\n",
       "      <td>1</td>\n",
       "      <td>122</td>\n",
       "    </tr>\n",
       "    <tr>\n",
       "      <th>2</th>\n",
       "      <td>2022-06-18</td>\n",
       "      <td>Channel1</td>\n",
       "      <td>B1</td>\n",
       "      <td>Cat2</td>\n",
       "      <td>Sub-Cat2</td>\n",
       "      <td>1</td>\n",
       "      <td>102</td>\n",
       "    </tr>\n",
       "    <tr>\n",
       "      <th>3</th>\n",
       "      <td>2022-06-25</td>\n",
       "      <td>Channel1</td>\n",
       "      <td>B1</td>\n",
       "      <td>Cat2</td>\n",
       "      <td>Sub-Cat2</td>\n",
       "      <td>1</td>\n",
       "      <td>128</td>\n",
       "    </tr>\n",
       "    <tr>\n",
       "      <th>4</th>\n",
       "      <td>2022-07-02</td>\n",
       "      <td>Channel1</td>\n",
       "      <td>B1</td>\n",
       "      <td>Cat2</td>\n",
       "      <td>Sub-Cat2</td>\n",
       "      <td>1</td>\n",
       "      <td>97</td>\n",
       "    </tr>\n",
       "  </tbody>\n",
       "</table>\n",
       "</div>"
      ],
      "text/plain": [
       "  weekend_date   channel brand category sub_category  serial_num  quantity\n",
       "0   2022-06-04  Channel1    B1     Cat2     Sub-Cat2           1        56\n",
       "1   2022-06-11  Channel1    B1     Cat2     Sub-Cat2           1       122\n",
       "2   2022-06-18  Channel1    B1     Cat2     Sub-Cat2           1       102\n",
       "3   2022-06-25  Channel1    B1     Cat2     Sub-Cat2           1       128\n",
       "4   2022-07-02  Channel1    B1     Cat2     Sub-Cat2           1        97"
      ]
     },
     "execution_count": 7,
     "metadata": {},
     "output_type": "execute_result"
    }
   ],
   "source": [
    "df.head()"
   ]
  },
  {
   "cell_type": "code",
   "execution_count": 12,
   "id": "9eaf7696",
   "metadata": {},
   "outputs": [],
   "source": [
    "df_s1 = df[df['serial_num'] == 1][['weekend_date', 'quantity']].rename(columns={\n",
    "        'weekend_date': 'ds',\n",
    "        'quantity': 'y'\n",
    "    })"
   ]
  },
  {
   "cell_type": "code",
   "execution_count": 13,
   "id": "ec5753b2",
   "metadata": {},
   "outputs": [
    {
     "data": {
      "text/html": [
       "<div>\n",
       "<style scoped>\n",
       "    .dataframe tbody tr th:only-of-type {\n",
       "        vertical-align: middle;\n",
       "    }\n",
       "\n",
       "    .dataframe tbody tr th {\n",
       "        vertical-align: top;\n",
       "    }\n",
       "\n",
       "    .dataframe thead th {\n",
       "        text-align: right;\n",
       "    }\n",
       "</style>\n",
       "<table border=\"1\" class=\"dataframe\">\n",
       "  <thead>\n",
       "    <tr style=\"text-align: right;\">\n",
       "      <th></th>\n",
       "      <th>ds</th>\n",
       "      <th>y</th>\n",
       "    </tr>\n",
       "  </thead>\n",
       "  <tbody>\n",
       "    <tr>\n",
       "      <th>0</th>\n",
       "      <td>2022-06-04</td>\n",
       "      <td>56</td>\n",
       "    </tr>\n",
       "    <tr>\n",
       "      <th>1</th>\n",
       "      <td>2022-06-11</td>\n",
       "      <td>122</td>\n",
       "    </tr>\n",
       "    <tr>\n",
       "      <th>2</th>\n",
       "      <td>2022-06-18</td>\n",
       "      <td>102</td>\n",
       "    </tr>\n",
       "    <tr>\n",
       "      <th>3</th>\n",
       "      <td>2022-06-25</td>\n",
       "      <td>128</td>\n",
       "    </tr>\n",
       "    <tr>\n",
       "      <th>4</th>\n",
       "      <td>2022-07-02</td>\n",
       "      <td>97</td>\n",
       "    </tr>\n",
       "  </tbody>\n",
       "</table>\n",
       "</div>"
      ],
      "text/plain": [
       "          ds    y\n",
       "0 2022-06-04   56\n",
       "1 2022-06-11  122\n",
       "2 2022-06-18  102\n",
       "3 2022-06-25  128\n",
       "4 2022-07-02   97"
      ]
     },
     "execution_count": 13,
     "metadata": {},
     "output_type": "execute_result"
    }
   ],
   "source": [
    "df_s1.head()"
   ]
  },
  {
   "cell_type": "code",
   "execution_count": 14,
   "id": "9656570b",
   "metadata": {},
   "outputs": [
    {
     "data": {
      "text/html": [
       "<div>\n",
       "<style scoped>\n",
       "    .dataframe tbody tr th:only-of-type {\n",
       "        vertical-align: middle;\n",
       "    }\n",
       "\n",
       "    .dataframe tbody tr th {\n",
       "        vertical-align: top;\n",
       "    }\n",
       "\n",
       "    .dataframe thead th {\n",
       "        text-align: right;\n",
       "    }\n",
       "</style>\n",
       "<table border=\"1\" class=\"dataframe\">\n",
       "  <thead>\n",
       "    <tr style=\"text-align: right;\">\n",
       "      <th></th>\n",
       "      <th>ds</th>\n",
       "      <th>y</th>\n",
       "    </tr>\n",
       "  </thead>\n",
       "  <tbody>\n",
       "    <tr>\n",
       "      <th>113</th>\n",
       "      <td>2024-08-03</td>\n",
       "      <td>64</td>\n",
       "    </tr>\n",
       "    <tr>\n",
       "      <th>114</th>\n",
       "      <td>2024-08-10</td>\n",
       "      <td>63</td>\n",
       "    </tr>\n",
       "    <tr>\n",
       "      <th>115</th>\n",
       "      <td>2024-08-17</td>\n",
       "      <td>38</td>\n",
       "    </tr>\n",
       "    <tr>\n",
       "      <th>116</th>\n",
       "      <td>2024-08-24</td>\n",
       "      <td>54</td>\n",
       "    </tr>\n",
       "    <tr>\n",
       "      <th>117</th>\n",
       "      <td>2024-08-31</td>\n",
       "      <td>78</td>\n",
       "    </tr>\n",
       "  </tbody>\n",
       "</table>\n",
       "</div>"
      ],
      "text/plain": [
       "            ds   y\n",
       "113 2024-08-03  64\n",
       "114 2024-08-10  63\n",
       "115 2024-08-17  38\n",
       "116 2024-08-24  54\n",
       "117 2024-08-31  78"
      ]
     },
     "execution_count": 14,
     "metadata": {},
     "output_type": "execute_result"
    }
   ],
   "source": [
    "df_s1.tail()"
   ]
  },
  {
   "cell_type": "code",
   "execution_count": 15,
   "id": "8c3c55eb",
   "metadata": {},
   "outputs": [],
   "source": [
    "df_s1 = df_s1.groupby('ds', as_index=False).agg({'y': 'sum'})"
   ]
  },
  {
   "cell_type": "code",
   "execution_count": 16,
   "id": "080c908f",
   "metadata": {},
   "outputs": [
    {
     "data": {
      "text/html": [
       "<div>\n",
       "<style scoped>\n",
       "    .dataframe tbody tr th:only-of-type {\n",
       "        vertical-align: middle;\n",
       "    }\n",
       "\n",
       "    .dataframe tbody tr th {\n",
       "        vertical-align: top;\n",
       "    }\n",
       "\n",
       "    .dataframe thead th {\n",
       "        text-align: right;\n",
       "    }\n",
       "</style>\n",
       "<table border=\"1\" class=\"dataframe\">\n",
       "  <thead>\n",
       "    <tr style=\"text-align: right;\">\n",
       "      <th></th>\n",
       "      <th>ds</th>\n",
       "      <th>y</th>\n",
       "    </tr>\n",
       "  </thead>\n",
       "  <tbody>\n",
       "    <tr>\n",
       "      <th>0</th>\n",
       "      <td>2022-06-04</td>\n",
       "      <td>56</td>\n",
       "    </tr>\n",
       "    <tr>\n",
       "      <th>1</th>\n",
       "      <td>2022-06-11</td>\n",
       "      <td>122</td>\n",
       "    </tr>\n",
       "    <tr>\n",
       "      <th>2</th>\n",
       "      <td>2022-06-18</td>\n",
       "      <td>102</td>\n",
       "    </tr>\n",
       "    <tr>\n",
       "      <th>3</th>\n",
       "      <td>2022-06-25</td>\n",
       "      <td>128</td>\n",
       "    </tr>\n",
       "    <tr>\n",
       "      <th>4</th>\n",
       "      <td>2022-07-02</td>\n",
       "      <td>97</td>\n",
       "    </tr>\n",
       "  </tbody>\n",
       "</table>\n",
       "</div>"
      ],
      "text/plain": [
       "          ds    y\n",
       "0 2022-06-04   56\n",
       "1 2022-06-11  122\n",
       "2 2022-06-18  102\n",
       "3 2022-06-25  128\n",
       "4 2022-07-02   97"
      ]
     },
     "execution_count": 16,
     "metadata": {},
     "output_type": "execute_result"
    }
   ],
   "source": [
    "df_s1.head()"
   ]
  },
  {
   "cell_type": "code",
   "execution_count": 58,
   "id": "81614b99",
   "metadata": {},
   "outputs": [
    {
     "data": {
      "text/html": [
       "<div>\n",
       "<style scoped>\n",
       "    .dataframe tbody tr th:only-of-type {\n",
       "        vertical-align: middle;\n",
       "    }\n",
       "\n",
       "    .dataframe tbody tr th {\n",
       "        vertical-align: top;\n",
       "    }\n",
       "\n",
       "    .dataframe thead th {\n",
       "        text-align: right;\n",
       "    }\n",
       "</style>\n",
       "<table border=\"1\" class=\"dataframe\">\n",
       "  <thead>\n",
       "    <tr style=\"text-align: right;\">\n",
       "      <th></th>\n",
       "      <th>ds</th>\n",
       "      <th>y</th>\n",
       "    </tr>\n",
       "  </thead>\n",
       "  <tbody>\n",
       "    <tr>\n",
       "      <th>100</th>\n",
       "      <td>2024-05-04</td>\n",
       "      <td>45</td>\n",
       "    </tr>\n",
       "    <tr>\n",
       "      <th>101</th>\n",
       "      <td>2024-05-11</td>\n",
       "      <td>28</td>\n",
       "    </tr>\n",
       "    <tr>\n",
       "      <th>102</th>\n",
       "      <td>2024-05-18</td>\n",
       "      <td>37</td>\n",
       "    </tr>\n",
       "    <tr>\n",
       "      <th>103</th>\n",
       "      <td>2024-05-25</td>\n",
       "      <td>10</td>\n",
       "    </tr>\n",
       "    <tr>\n",
       "      <th>104</th>\n",
       "      <td>2024-06-01</td>\n",
       "      <td>24</td>\n",
       "    </tr>\n",
       "    <tr>\n",
       "      <th>105</th>\n",
       "      <td>2024-06-08</td>\n",
       "      <td>44</td>\n",
       "    </tr>\n",
       "    <tr>\n",
       "      <th>106</th>\n",
       "      <td>2024-06-15</td>\n",
       "      <td>28</td>\n",
       "    </tr>\n",
       "    <tr>\n",
       "      <th>107</th>\n",
       "      <td>2024-06-22</td>\n",
       "      <td>24</td>\n",
       "    </tr>\n",
       "    <tr>\n",
       "      <th>108</th>\n",
       "      <td>2024-06-29</td>\n",
       "      <td>28</td>\n",
       "    </tr>\n",
       "    <tr>\n",
       "      <th>109</th>\n",
       "      <td>2024-07-06</td>\n",
       "      <td>22</td>\n",
       "    </tr>\n",
       "  </tbody>\n",
       "</table>\n",
       "</div>"
      ],
      "text/plain": [
       "            ds   y\n",
       "100 2024-05-04  45\n",
       "101 2024-05-11  28\n",
       "102 2024-05-18  37\n",
       "103 2024-05-25  10\n",
       "104 2024-06-01  24\n",
       "105 2024-06-08  44\n",
       "106 2024-06-15  28\n",
       "107 2024-06-22  24\n",
       "108 2024-06-29  28\n",
       "109 2024-07-06  22"
      ]
     },
     "execution_count": 58,
     "metadata": {},
     "output_type": "execute_result"
    }
   ],
   "source": [
    "df_s1[100:110]"
   ]
  },
  {
   "cell_type": "code",
   "execution_count": 59,
   "id": "a0d3e1a4",
   "metadata": {},
   "outputs": [],
   "source": [
    "train_df = df_s1[df_s1['ds'] < '2024-06-01']\n",
    "val_df = df_s1[(df_s1['ds'] >= '2024-06-01') & (df_s1['ds'] < '2024-09-01')]"
   ]
  },
  {
   "cell_type": "code",
   "execution_count": 60,
   "id": "8566fb7f",
   "metadata": {},
   "outputs": [
    {
     "data": {
      "text/html": [
       "<div>\n",
       "<style scoped>\n",
       "    .dataframe tbody tr th:only-of-type {\n",
       "        vertical-align: middle;\n",
       "    }\n",
       "\n",
       "    .dataframe tbody tr th {\n",
       "        vertical-align: top;\n",
       "    }\n",
       "\n",
       "    .dataframe thead th {\n",
       "        text-align: right;\n",
       "    }\n",
       "</style>\n",
       "<table border=\"1\" class=\"dataframe\">\n",
       "  <thead>\n",
       "    <tr style=\"text-align: right;\">\n",
       "      <th></th>\n",
       "      <th>ds</th>\n",
       "      <th>y</th>\n",
       "    </tr>\n",
       "  </thead>\n",
       "  <tbody>\n",
       "    <tr>\n",
       "      <th>0</th>\n",
       "      <td>2022-06-04</td>\n",
       "      <td>56</td>\n",
       "    </tr>\n",
       "    <tr>\n",
       "      <th>1</th>\n",
       "      <td>2022-06-11</td>\n",
       "      <td>122</td>\n",
       "    </tr>\n",
       "    <tr>\n",
       "      <th>2</th>\n",
       "      <td>2022-06-18</td>\n",
       "      <td>102</td>\n",
       "    </tr>\n",
       "    <tr>\n",
       "      <th>3</th>\n",
       "      <td>2022-06-25</td>\n",
       "      <td>128</td>\n",
       "    </tr>\n",
       "    <tr>\n",
       "      <th>4</th>\n",
       "      <td>2022-07-02</td>\n",
       "      <td>97</td>\n",
       "    </tr>\n",
       "    <tr>\n",
       "      <th>...</th>\n",
       "      <td>...</td>\n",
       "      <td>...</td>\n",
       "    </tr>\n",
       "    <tr>\n",
       "      <th>99</th>\n",
       "      <td>2024-04-27</td>\n",
       "      <td>46</td>\n",
       "    </tr>\n",
       "    <tr>\n",
       "      <th>100</th>\n",
       "      <td>2024-05-04</td>\n",
       "      <td>45</td>\n",
       "    </tr>\n",
       "    <tr>\n",
       "      <th>101</th>\n",
       "      <td>2024-05-11</td>\n",
       "      <td>28</td>\n",
       "    </tr>\n",
       "    <tr>\n",
       "      <th>102</th>\n",
       "      <td>2024-05-18</td>\n",
       "      <td>37</td>\n",
       "    </tr>\n",
       "    <tr>\n",
       "      <th>103</th>\n",
       "      <td>2024-05-25</td>\n",
       "      <td>10</td>\n",
       "    </tr>\n",
       "  </tbody>\n",
       "</table>\n",
       "<p>104 rows × 2 columns</p>\n",
       "</div>"
      ],
      "text/plain": [
       "            ds    y\n",
       "0   2022-06-04   56\n",
       "1   2022-06-11  122\n",
       "2   2022-06-18  102\n",
       "3   2022-06-25  128\n",
       "4   2022-07-02   97\n",
       "..         ...  ...\n",
       "99  2024-04-27   46\n",
       "100 2024-05-04   45\n",
       "101 2024-05-11   28\n",
       "102 2024-05-18   37\n",
       "103 2024-05-25   10\n",
       "\n",
       "[104 rows x 2 columns]"
      ]
     },
     "execution_count": 60,
     "metadata": {},
     "output_type": "execute_result"
    }
   ],
   "source": [
    "train_df"
   ]
  },
  {
   "cell_type": "code",
   "execution_count": 61,
   "id": "3c5509d5",
   "metadata": {},
   "outputs": [
    {
     "data": {
      "text/html": [
       "<div>\n",
       "<style scoped>\n",
       "    .dataframe tbody tr th:only-of-type {\n",
       "        vertical-align: middle;\n",
       "    }\n",
       "\n",
       "    .dataframe tbody tr th {\n",
       "        vertical-align: top;\n",
       "    }\n",
       "\n",
       "    .dataframe thead th {\n",
       "        text-align: right;\n",
       "    }\n",
       "</style>\n",
       "<table border=\"1\" class=\"dataframe\">\n",
       "  <thead>\n",
       "    <tr style=\"text-align: right;\">\n",
       "      <th></th>\n",
       "      <th>ds</th>\n",
       "      <th>y</th>\n",
       "    </tr>\n",
       "  </thead>\n",
       "  <tbody>\n",
       "    <tr>\n",
       "      <th>104</th>\n",
       "      <td>2024-06-01</td>\n",
       "      <td>24</td>\n",
       "    </tr>\n",
       "    <tr>\n",
       "      <th>105</th>\n",
       "      <td>2024-06-08</td>\n",
       "      <td>44</td>\n",
       "    </tr>\n",
       "    <tr>\n",
       "      <th>106</th>\n",
       "      <td>2024-06-15</td>\n",
       "      <td>28</td>\n",
       "    </tr>\n",
       "    <tr>\n",
       "      <th>107</th>\n",
       "      <td>2024-06-22</td>\n",
       "      <td>24</td>\n",
       "    </tr>\n",
       "    <tr>\n",
       "      <th>108</th>\n",
       "      <td>2024-06-29</td>\n",
       "      <td>28</td>\n",
       "    </tr>\n",
       "    <tr>\n",
       "      <th>109</th>\n",
       "      <td>2024-07-06</td>\n",
       "      <td>22</td>\n",
       "    </tr>\n",
       "    <tr>\n",
       "      <th>110</th>\n",
       "      <td>2024-07-13</td>\n",
       "      <td>32</td>\n",
       "    </tr>\n",
       "    <tr>\n",
       "      <th>111</th>\n",
       "      <td>2024-07-20</td>\n",
       "      <td>43</td>\n",
       "    </tr>\n",
       "    <tr>\n",
       "      <th>112</th>\n",
       "      <td>2024-07-27</td>\n",
       "      <td>68</td>\n",
       "    </tr>\n",
       "    <tr>\n",
       "      <th>113</th>\n",
       "      <td>2024-08-03</td>\n",
       "      <td>64</td>\n",
       "    </tr>\n",
       "    <tr>\n",
       "      <th>114</th>\n",
       "      <td>2024-08-10</td>\n",
       "      <td>63</td>\n",
       "    </tr>\n",
       "    <tr>\n",
       "      <th>115</th>\n",
       "      <td>2024-08-17</td>\n",
       "      <td>38</td>\n",
       "    </tr>\n",
       "    <tr>\n",
       "      <th>116</th>\n",
       "      <td>2024-08-24</td>\n",
       "      <td>54</td>\n",
       "    </tr>\n",
       "    <tr>\n",
       "      <th>117</th>\n",
       "      <td>2024-08-31</td>\n",
       "      <td>78</td>\n",
       "    </tr>\n",
       "  </tbody>\n",
       "</table>\n",
       "</div>"
      ],
      "text/plain": [
       "            ds   y\n",
       "104 2024-06-01  24\n",
       "105 2024-06-08  44\n",
       "106 2024-06-15  28\n",
       "107 2024-06-22  24\n",
       "108 2024-06-29  28\n",
       "109 2024-07-06  22\n",
       "110 2024-07-13  32\n",
       "111 2024-07-20  43\n",
       "112 2024-07-27  68\n",
       "113 2024-08-03  64\n",
       "114 2024-08-10  63\n",
       "115 2024-08-17  38\n",
       "116 2024-08-24  54\n",
       "117 2024-08-31  78"
      ]
     },
     "execution_count": 61,
     "metadata": {},
     "output_type": "execute_result"
    }
   ],
   "source": [
    "val_df"
   ]
  },
  {
   "cell_type": "code",
   "execution_count": 68,
   "id": "9e2814fe",
   "metadata": {},
   "outputs": [],
   "source": [
    "\n",
    "\n",
    "# Step 2: Make future dataframe to include from 2024-06-01 onwards\n",
    "# Find number of weeks in val_df\n",
    "num_weeks = val_df.shape[0]\n"
   ]
  },
  {
   "cell_type": "code",
   "execution_count": 70,
   "id": "cb3fd2a3",
   "metadata": {},
   "outputs": [
    {
     "data": {
      "text/plain": [
       "(14, 2)"
      ]
     },
     "execution_count": 70,
     "metadata": {},
     "output_type": "execute_result"
    }
   ],
   "source": [
    "val_df.shape"
   ]
  },
  {
   "cell_type": "code",
   "execution_count": 69,
   "id": "bf612422",
   "metadata": {},
   "outputs": [
    {
     "data": {
      "text/plain": [
       "14"
      ]
     },
     "execution_count": 69,
     "metadata": {},
     "output_type": "execute_result"
    }
   ],
   "source": [
    "num_weeks"
   ]
  },
  {
   "cell_type": "code",
   "execution_count": 62,
   "id": "d07f97f8",
   "metadata": {},
   "outputs": [
    {
     "name": "stderr",
     "output_type": "stream",
     "text": [
      "21:19:48 - cmdstanpy - INFO - Chain [1] start processing\n",
      "21:19:49 - cmdstanpy - INFO - Chain [1] done processing\n"
     ]
    },
    {
     "data": {
      "text/plain": [
       "<prophet.forecaster.Prophet at 0x21522327080>"
      ]
     },
     "execution_count": 62,
     "metadata": {},
     "output_type": "execute_result"
    }
   ],
   "source": [
    "model = Prophet()\n",
    "model.fit(train_df)"
   ]
  },
  {
   "cell_type": "code",
   "execution_count": null,
   "id": "8e7c66e3",
   "metadata": {},
   "outputs": [],
   "source": []
  },
  {
   "cell_type": "code",
   "execution_count": 74,
   "id": "afa91344",
   "metadata": {},
   "outputs": [],
   "source": [
    "\n",
    "# Step 3: Create future dataframe starting from next Saturday (2024-06-01)\n",
    "future = model.make_future_dataframe(periods=num_weeks, freq='W-SAT')\n",
    "\n",
    "# Step 4: Predict\n",
    "val_forecast = model.predict(future)\n",
    "\n"
   ]
  },
  {
   "cell_type": "code",
   "execution_count": 75,
   "id": "0b8ca23f",
   "metadata": {},
   "outputs": [],
   "source": [
    "val_forecast=val_forecast[['ds','yhat']]"
   ]
  },
  {
   "cell_type": "code",
   "execution_count": 80,
   "id": "7e368d1f",
   "metadata": {},
   "outputs": [
    {
     "data": {
      "text/html": [
       "<div>\n",
       "<style scoped>\n",
       "    .dataframe tbody tr th:only-of-type {\n",
       "        vertical-align: middle;\n",
       "    }\n",
       "\n",
       "    .dataframe tbody tr th {\n",
       "        vertical-align: top;\n",
       "    }\n",
       "\n",
       "    .dataframe thead th {\n",
       "        text-align: right;\n",
       "    }\n",
       "</style>\n",
       "<table border=\"1\" class=\"dataframe\">\n",
       "  <thead>\n",
       "    <tr style=\"text-align: right;\">\n",
       "      <th></th>\n",
       "      <th>ds</th>\n",
       "      <th>yhat</th>\n",
       "    </tr>\n",
       "  </thead>\n",
       "  <tbody>\n",
       "    <tr>\n",
       "      <th>104</th>\n",
       "      <td>2024-06-01</td>\n",
       "      <td>36.752713</td>\n",
       "    </tr>\n",
       "    <tr>\n",
       "      <th>105</th>\n",
       "      <td>2024-06-08</td>\n",
       "      <td>35.775444</td>\n",
       "    </tr>\n",
       "    <tr>\n",
       "      <th>106</th>\n",
       "      <td>2024-06-15</td>\n",
       "      <td>34.798174</td>\n",
       "    </tr>\n",
       "    <tr>\n",
       "      <th>107</th>\n",
       "      <td>2024-06-22</td>\n",
       "      <td>33.820905</td>\n",
       "    </tr>\n",
       "    <tr>\n",
       "      <th>108</th>\n",
       "      <td>2024-06-29</td>\n",
       "      <td>32.843635</td>\n",
       "    </tr>\n",
       "    <tr>\n",
       "      <th>109</th>\n",
       "      <td>2024-07-06</td>\n",
       "      <td>31.866365</td>\n",
       "    </tr>\n",
       "    <tr>\n",
       "      <th>110</th>\n",
       "      <td>2024-07-13</td>\n",
       "      <td>30.889096</td>\n",
       "    </tr>\n",
       "    <tr>\n",
       "      <th>111</th>\n",
       "      <td>2024-07-20</td>\n",
       "      <td>29.911826</td>\n",
       "    </tr>\n",
       "    <tr>\n",
       "      <th>112</th>\n",
       "      <td>2024-07-27</td>\n",
       "      <td>28.934557</td>\n",
       "    </tr>\n",
       "    <tr>\n",
       "      <th>113</th>\n",
       "      <td>2024-08-03</td>\n",
       "      <td>27.957287</td>\n",
       "    </tr>\n",
       "    <tr>\n",
       "      <th>114</th>\n",
       "      <td>2024-08-10</td>\n",
       "      <td>26.980017</td>\n",
       "    </tr>\n",
       "    <tr>\n",
       "      <th>115</th>\n",
       "      <td>2024-08-17</td>\n",
       "      <td>26.002748</td>\n",
       "    </tr>\n",
       "    <tr>\n",
       "      <th>116</th>\n",
       "      <td>2024-08-24</td>\n",
       "      <td>25.025478</td>\n",
       "    </tr>\n",
       "    <tr>\n",
       "      <th>117</th>\n",
       "      <td>2024-08-31</td>\n",
       "      <td>24.048208</td>\n",
       "    </tr>\n",
       "  </tbody>\n",
       "</table>\n",
       "</div>"
      ],
      "text/plain": [
       "            ds       yhat\n",
       "104 2024-06-01  36.752713\n",
       "105 2024-06-08  35.775444\n",
       "106 2024-06-15  34.798174\n",
       "107 2024-06-22  33.820905\n",
       "108 2024-06-29  32.843635\n",
       "109 2024-07-06  31.866365\n",
       "110 2024-07-13  30.889096\n",
       "111 2024-07-20  29.911826\n",
       "112 2024-07-27  28.934557\n",
       "113 2024-08-03  27.957287\n",
       "114 2024-08-10  26.980017\n",
       "115 2024-08-17  26.002748\n",
       "116 2024-08-24  25.025478\n",
       "117 2024-08-31  24.048208"
      ]
     },
     "execution_count": 80,
     "metadata": {},
     "output_type": "execute_result"
    }
   ],
   "source": [
    "val_forecast[104:]"
   ]
  },
  {
   "cell_type": "code",
   "execution_count": 77,
   "id": "6efd6713",
   "metadata": {},
   "outputs": [
    {
     "data": {
      "text/html": [
       "<div>\n",
       "<style scoped>\n",
       "    .dataframe tbody tr th:only-of-type {\n",
       "        vertical-align: middle;\n",
       "    }\n",
       "\n",
       "    .dataframe tbody tr th {\n",
       "        vertical-align: top;\n",
       "    }\n",
       "\n",
       "    .dataframe thead th {\n",
       "        text-align: right;\n",
       "    }\n",
       "</style>\n",
       "<table border=\"1\" class=\"dataframe\">\n",
       "  <thead>\n",
       "    <tr style=\"text-align: right;\">\n",
       "      <th></th>\n",
       "      <th>ds</th>\n",
       "      <th>y</th>\n",
       "    </tr>\n",
       "  </thead>\n",
       "  <tbody>\n",
       "    <tr>\n",
       "      <th>104</th>\n",
       "      <td>2024-06-01</td>\n",
       "      <td>24</td>\n",
       "    </tr>\n",
       "    <tr>\n",
       "      <th>105</th>\n",
       "      <td>2024-06-08</td>\n",
       "      <td>44</td>\n",
       "    </tr>\n",
       "    <tr>\n",
       "      <th>106</th>\n",
       "      <td>2024-06-15</td>\n",
       "      <td>28</td>\n",
       "    </tr>\n",
       "    <tr>\n",
       "      <th>107</th>\n",
       "      <td>2024-06-22</td>\n",
       "      <td>24</td>\n",
       "    </tr>\n",
       "    <tr>\n",
       "      <th>108</th>\n",
       "      <td>2024-06-29</td>\n",
       "      <td>28</td>\n",
       "    </tr>\n",
       "    <tr>\n",
       "      <th>109</th>\n",
       "      <td>2024-07-06</td>\n",
       "      <td>22</td>\n",
       "    </tr>\n",
       "    <tr>\n",
       "      <th>110</th>\n",
       "      <td>2024-07-13</td>\n",
       "      <td>32</td>\n",
       "    </tr>\n",
       "    <tr>\n",
       "      <th>111</th>\n",
       "      <td>2024-07-20</td>\n",
       "      <td>43</td>\n",
       "    </tr>\n",
       "    <tr>\n",
       "      <th>112</th>\n",
       "      <td>2024-07-27</td>\n",
       "      <td>68</td>\n",
       "    </tr>\n",
       "    <tr>\n",
       "      <th>113</th>\n",
       "      <td>2024-08-03</td>\n",
       "      <td>64</td>\n",
       "    </tr>\n",
       "    <tr>\n",
       "      <th>114</th>\n",
       "      <td>2024-08-10</td>\n",
       "      <td>63</td>\n",
       "    </tr>\n",
       "    <tr>\n",
       "      <th>115</th>\n",
       "      <td>2024-08-17</td>\n",
       "      <td>38</td>\n",
       "    </tr>\n",
       "    <tr>\n",
       "      <th>116</th>\n",
       "      <td>2024-08-24</td>\n",
       "      <td>54</td>\n",
       "    </tr>\n",
       "    <tr>\n",
       "      <th>117</th>\n",
       "      <td>2024-08-31</td>\n",
       "      <td>78</td>\n",
       "    </tr>\n",
       "  </tbody>\n",
       "</table>\n",
       "</div>"
      ],
      "text/plain": [
       "            ds   y\n",
       "104 2024-06-01  24\n",
       "105 2024-06-08  44\n",
       "106 2024-06-15  28\n",
       "107 2024-06-22  24\n",
       "108 2024-06-29  28\n",
       "109 2024-07-06  22\n",
       "110 2024-07-13  32\n",
       "111 2024-07-20  43\n",
       "112 2024-07-27  68\n",
       "113 2024-08-03  64\n",
       "114 2024-08-10  63\n",
       "115 2024-08-17  38\n",
       "116 2024-08-24  54\n",
       "117 2024-08-31  78"
      ]
     },
     "execution_count": 77,
     "metadata": {},
     "output_type": "execute_result"
    }
   ],
   "source": [
    "val_df"
   ]
  },
  {
   "cell_type": "code",
   "execution_count": 81,
   "id": "f4fad0a3",
   "metadata": {},
   "outputs": [
    {
     "data": {
      "text/html": [
       "<div>\n",
       "<style scoped>\n",
       "    .dataframe tbody tr th:only-of-type {\n",
       "        vertical-align: middle;\n",
       "    }\n",
       "\n",
       "    .dataframe tbody tr th {\n",
       "        vertical-align: top;\n",
       "    }\n",
       "\n",
       "    .dataframe thead th {\n",
       "        text-align: right;\n",
       "    }\n",
       "</style>\n",
       "<table border=\"1\" class=\"dataframe\">\n",
       "  <thead>\n",
       "    <tr style=\"text-align: right;\">\n",
       "      <th></th>\n",
       "      <th>ds</th>\n",
       "      <th>y</th>\n",
       "      <th>yhat</th>\n",
       "    </tr>\n",
       "  </thead>\n",
       "  <tbody>\n",
       "    <tr>\n",
       "      <th>0</th>\n",
       "      <td>2024-06-01</td>\n",
       "      <td>24</td>\n",
       "      <td>36.752713</td>\n",
       "    </tr>\n",
       "    <tr>\n",
       "      <th>1</th>\n",
       "      <td>2024-06-08</td>\n",
       "      <td>44</td>\n",
       "      <td>35.775444</td>\n",
       "    </tr>\n",
       "    <tr>\n",
       "      <th>2</th>\n",
       "      <td>2024-06-15</td>\n",
       "      <td>28</td>\n",
       "      <td>34.798174</td>\n",
       "    </tr>\n",
       "    <tr>\n",
       "      <th>3</th>\n",
       "      <td>2024-06-22</td>\n",
       "      <td>24</td>\n",
       "      <td>33.820905</td>\n",
       "    </tr>\n",
       "    <tr>\n",
       "      <th>4</th>\n",
       "      <td>2024-06-29</td>\n",
       "      <td>28</td>\n",
       "      <td>32.843635</td>\n",
       "    </tr>\n",
       "    <tr>\n",
       "      <th>5</th>\n",
       "      <td>2024-07-06</td>\n",
       "      <td>22</td>\n",
       "      <td>31.866365</td>\n",
       "    </tr>\n",
       "    <tr>\n",
       "      <th>6</th>\n",
       "      <td>2024-07-13</td>\n",
       "      <td>32</td>\n",
       "      <td>30.889096</td>\n",
       "    </tr>\n",
       "    <tr>\n",
       "      <th>7</th>\n",
       "      <td>2024-07-20</td>\n",
       "      <td>43</td>\n",
       "      <td>29.911826</td>\n",
       "    </tr>\n",
       "    <tr>\n",
       "      <th>8</th>\n",
       "      <td>2024-07-27</td>\n",
       "      <td>68</td>\n",
       "      <td>28.934557</td>\n",
       "    </tr>\n",
       "    <tr>\n",
       "      <th>9</th>\n",
       "      <td>2024-08-03</td>\n",
       "      <td>64</td>\n",
       "      <td>27.957287</td>\n",
       "    </tr>\n",
       "    <tr>\n",
       "      <th>10</th>\n",
       "      <td>2024-08-10</td>\n",
       "      <td>63</td>\n",
       "      <td>26.980017</td>\n",
       "    </tr>\n",
       "    <tr>\n",
       "      <th>11</th>\n",
       "      <td>2024-08-17</td>\n",
       "      <td>38</td>\n",
       "      <td>26.002748</td>\n",
       "    </tr>\n",
       "    <tr>\n",
       "      <th>12</th>\n",
       "      <td>2024-08-24</td>\n",
       "      <td>54</td>\n",
       "      <td>25.025478</td>\n",
       "    </tr>\n",
       "    <tr>\n",
       "      <th>13</th>\n",
       "      <td>2024-08-31</td>\n",
       "      <td>78</td>\n",
       "      <td>24.048208</td>\n",
       "    </tr>\n",
       "  </tbody>\n",
       "</table>\n",
       "</div>"
      ],
      "text/plain": [
       "           ds   y       yhat\n",
       "0  2024-06-01  24  36.752713\n",
       "1  2024-06-08  44  35.775444\n",
       "2  2024-06-15  28  34.798174\n",
       "3  2024-06-22  24  33.820905\n",
       "4  2024-06-29  28  32.843635\n",
       "5  2024-07-06  22  31.866365\n",
       "6  2024-07-13  32  30.889096\n",
       "7  2024-07-20  43  29.911826\n",
       "8  2024-07-27  68  28.934557\n",
       "9  2024-08-03  64  27.957287\n",
       "10 2024-08-10  63  26.980017\n",
       "11 2024-08-17  38  26.002748\n",
       "12 2024-08-24  54  25.025478\n",
       "13 2024-08-31  78  24.048208"
      ]
     },
     "execution_count": 81,
     "metadata": {},
     "output_type": "execute_result"
    }
   ],
   "source": [
    "val_full = pd.merge(val_df, val_forecast, on='ds', how='left')\n",
    "val_full"
   ]
  },
  {
   "cell_type": "code",
   "execution_count": 83,
   "id": "6093faa0",
   "metadata": {},
   "outputs": [],
   "source": [
    "import numpy as np"
   ]
  },
  {
   "cell_type": "markdown",
   "id": "b7d2ae42",
   "metadata": {},
   "source": [
    "\n",
    "$$\n",
    "\\text{Monthly Accuracy} = 1 - \\frac{\\sum |\\hat{y} - y|}{\\sum y}\n",
    "$$\n"
   ]
  },
  {
   "cell_type": "code",
   "execution_count": 103,
   "id": "7d5620c5",
   "metadata": {},
   "outputs": [
    {
     "name": "stderr",
     "output_type": "stream",
     "text": [
      "C:\\Users\\Omkar Gadade\\AppData\\Local\\Temp\\ipykernel_20032\\2406494508.py:12: DeprecationWarning: DataFrameGroupBy.apply operated on the grouping columns. This behavior is deprecated, and in a future version of pandas the grouping columns will be excluded from the operation. Either pass `include_groups=False` to exclude the groupings or explicitly select the grouping columns after groupby to silence this warning.\n",
      "  monthly_accuracy = val_filtered.groupby('month').apply(\n"
     ]
    }
   ],
   "source": [
    "# Ensure ds column is datetime\n",
    "val_full['ds'] = pd.to_datetime(val_full['ds'])\n",
    "\n",
    "# Extract month and year\n",
    "val_full['month'] = val_full['ds'].dt.month\n",
    "val_full['year'] = val_full['ds'].dt.year\n",
    "\n",
    "# Filter for Jun, Jul, Aug 2024 only\n",
    "val_filtered = val_full[(val_full['year'] == 2024) & (val_full['month'].isin([6, 7, 8]))]\n",
    "\n",
    "# Group by month\n",
    "monthly_accuracy = val_filtered.groupby('month').apply(\n",
    "    lambda x: (1 - (np.abs(x['yhat'] - x['y']).sum() / x['y'].sum()))*100\n",
    ").reset_index(name='val_accuracy')"
   ]
  },
  {
   "cell_type": "code",
   "execution_count": 104,
   "id": "f6bda60d",
   "metadata": {},
   "outputs": [
    {
     "name": "stdout",
     "output_type": "stream",
     "text": [
      "   month  val_accuracy\n",
      "0      6     19.511261\n",
      "1      7     54.924588\n",
      "2      8     74.288530\n"
     ]
    }
   ],
   "source": [
    "print(monthly_accuracy)"
   ]
  },
  {
   "cell_type": "markdown",
   "id": "6ed40e96",
   "metadata": {},
   "source": [
    "*Finetuning Model*"
   ]
  },
  {
   "cell_type": "code",
   "execution_count": null,
   "id": "38734ed5",
   "metadata": {},
   "outputs": [],
   "source": []
  },
  {
   "cell_type": "code",
   "execution_count": null,
   "id": "b1294327",
   "metadata": {},
   "outputs": [],
   "source": []
  },
  {
   "cell_type": "code",
   "execution_count": null,
   "id": "8502b630",
   "metadata": {},
   "outputs": [],
   "source": []
  },
  {
   "cell_type": "code",
   "execution_count": null,
   "id": "f3022e71",
   "metadata": {},
   "outputs": [],
   "source": []
  },
  {
   "cell_type": "code",
   "execution_count": null,
   "id": "e3310e19",
   "metadata": {},
   "outputs": [],
   "source": []
  },
  {
   "cell_type": "code",
   "execution_count": null,
   "id": "6753064f",
   "metadata": {},
   "outputs": [],
   "source": []
  },
  {
   "cell_type": "code",
   "execution_count": null,
   "id": "4c02e691",
   "metadata": {},
   "outputs": [],
   "source": []
  },
  {
   "cell_type": "code",
   "execution_count": null,
   "id": "ab25029e",
   "metadata": {},
   "outputs": [],
   "source": []
  },
  {
   "cell_type": "code",
   "execution_count": null,
   "id": "b82e9bb7",
   "metadata": {},
   "outputs": [],
   "source": []
  },
  {
   "cell_type": "code",
   "execution_count": 107,
   "id": "5aa2eaca",
   "metadata": {},
   "outputs": [],
   "source": [
    "from prophet import Prophet\n",
    "from sklearn.model_selection import ParameterGrid\n",
    "import pandas as pd\n",
    "import numpy as np\n",
    "import joblib\n",
    "import os\n",
    "\n",
    "# 1. Define safer hyperparameter search space\n",
    "param_grid = {\n",
    "    'changepoint_prior_scale': [0.01, 0.05, 0.1],         # Moderate flexibility\n",
    "    'seasonality_prior_scale': [1.0, 5.0],                # Typical values\n",
    "    'seasonality_mode': ['additive'],                     # Simpler and more stable\n",
    "    'n_changepoints': [10, 20]                            # Low changepoints = stable fit\n",
    "}\n",
    "grid = list(ParameterGrid(param_grid))"
   ]
  },
  {
   "cell_type": "code",
   "execution_count": null,
   "id": "6bd42703",
   "metadata": {},
   "outputs": [],
   "source": []
  },
  {
   "cell_type": "code",
   "execution_count": null,
   "id": "c6ad4369",
   "metadata": {},
   "outputs": [],
   "source": [
    "# 2. Accuracy function based on monthly accuracy formula\n",
    "def monthly_accuracy(y_true, y_pred, dates):\n",
    "    df = pd.DataFrame({'ds': dates, 'y': y_true, 'yhat': y_pred})\n",
    "    df['ds'] = pd.to_datetime(df['ds'])\n",
    "    df['month'] = pd.to_datetime(df['ds']).dt.month\n",
    "    df['year'] = pd.to_datetime(df['ds']).dt.year\n",
    "    df = df[(df['year'] == 2024) & (df['month'].isin([6, 7, 8]))]\n",
    "    acc_df = df.groupby('month').apply(\n",
    "        lambda x: 1 - (np.abs(x['yhat'] - x['y']).sum() / x['y'].sum())\n",
    "    )\n",
    "    return acc_df.mean()  # Average accuracy over months\n",
    "\n",
    "# 3. Create model folder if it doesn't exist\n",
    "os.makedirs('model', exist_ok=True)"
   ]
  },
  {
   "cell_type": "code",
   "execution_count": 109,
   "id": "5d123a24",
   "metadata": {},
   "outputs": [
    {
     "name": "stderr",
     "output_type": "stream",
     "text": [
      "00:53:21 - cmdstanpy - INFO - Chain [1] start processing\n",
      "00:53:21 - cmdstanpy - INFO - Chain [1] done processing\n"
     ]
    },
    {
     "name": "stdout",
     "output_type": "stream",
     "text": [
      "\n",
      "▶ Trying config 1/12: {'changepoint_prior_scale': 0.01, 'n_changepoints': 10, 'seasonality_mode': 'additive', 'seasonality_prior_scale': 1.0}\n",
      "🔹 Monthly Accuracy: 0.5843\n",
      "\n",
      "▶ Trying config 2/12: {'changepoint_prior_scale': 0.01, 'n_changepoints': 10, 'seasonality_mode': 'additive', 'seasonality_prior_scale': 5.0}\n"
     ]
    },
    {
     "name": "stderr",
     "output_type": "stream",
     "text": [
      "C:\\Users\\Omkar Gadade\\AppData\\Local\\Temp\\ipykernel_20032\\912138952.py:7: DeprecationWarning: DataFrameGroupBy.apply operated on the grouping columns. This behavior is deprecated, and in a future version of pandas the grouping columns will be excluded from the operation. Either pass `include_groups=False` to exclude the groupings or explicitly select the grouping columns after groupby to silence this warning.\n",
      "  acc_df = df.groupby('month').apply(\n",
      "00:53:21 - cmdstanpy - INFO - Chain [1] start processing\n",
      "00:53:21 - cmdstanpy - INFO - Chain [1] done processing\n",
      "C:\\Users\\Omkar Gadade\\AppData\\Local\\Temp\\ipykernel_20032\\912138952.py:7: DeprecationWarning: DataFrameGroupBy.apply operated on the grouping columns. This behavior is deprecated, and in a future version of pandas the grouping columns will be excluded from the operation. Either pass `include_groups=False` to exclude the groupings or explicitly select the grouping columns after groupby to silence this warning.\n",
      "  acc_df = df.groupby('month').apply(\n",
      "00:53:21 - cmdstanpy - INFO - Chain [1] start processing\n",
      "00:53:21 - cmdstanpy - INFO - Chain [1] done processing\n",
      "C:\\Users\\Omkar Gadade\\AppData\\Local\\Temp\\ipykernel_20032\\912138952.py:7: DeprecationWarning: DataFrameGroupBy.apply operated on the grouping columns. This behavior is deprecated, and in a future version of pandas the grouping columns will be excluded from the operation. Either pass `include_groups=False` to exclude the groupings or explicitly select the grouping columns after groupby to silence this warning.\n",
      "  acc_df = df.groupby('month').apply(\n",
      "00:53:21 - cmdstanpy - INFO - Chain [1] start processing\n"
     ]
    },
    {
     "name": "stdout",
     "output_type": "stream",
     "text": [
      "🔹 Monthly Accuracy: 0.5843\n",
      "\n",
      "▶ Trying config 3/12: {'changepoint_prior_scale': 0.01, 'n_changepoints': 20, 'seasonality_mode': 'additive', 'seasonality_prior_scale': 1.0}\n",
      "🔹 Monthly Accuracy: 0.5666\n",
      "\n",
      "▶ Trying config 4/12: {'changepoint_prior_scale': 0.01, 'n_changepoints': 20, 'seasonality_mode': 'additive', 'seasonality_prior_scale': 5.0}\n"
     ]
    },
    {
     "name": "stderr",
     "output_type": "stream",
     "text": [
      "00:53:21 - cmdstanpy - INFO - Chain [1] done processing\n",
      "C:\\Users\\Omkar Gadade\\AppData\\Local\\Temp\\ipykernel_20032\\912138952.py:7: DeprecationWarning: DataFrameGroupBy.apply operated on the grouping columns. This behavior is deprecated, and in a future version of pandas the grouping columns will be excluded from the operation. Either pass `include_groups=False` to exclude the groupings or explicitly select the grouping columns after groupby to silence this warning.\n",
      "  acc_df = df.groupby('month').apply(\n",
      "00:53:21 - cmdstanpy - INFO - Chain [1] start processing\n",
      "00:53:22 - cmdstanpy - INFO - Chain [1] done processing\n",
      "C:\\Users\\Omkar Gadade\\AppData\\Local\\Temp\\ipykernel_20032\\912138952.py:7: DeprecationWarning: DataFrameGroupBy.apply operated on the grouping columns. This behavior is deprecated, and in a future version of pandas the grouping columns will be excluded from the operation. Either pass `include_groups=False` to exclude the groupings or explicitly select the grouping columns after groupby to silence this warning.\n",
      "  acc_df = df.groupby('month').apply(\n",
      "00:53:22 - cmdstanpy - INFO - Chain [1] start processing\n"
     ]
    },
    {
     "name": "stdout",
     "output_type": "stream",
     "text": [
      "🔹 Monthly Accuracy: 0.5666\n",
      "\n",
      "▶ Trying config 5/12: {'changepoint_prior_scale': 0.05, 'n_changepoints': 10, 'seasonality_mode': 'additive', 'seasonality_prior_scale': 1.0}\n",
      "🔹 Monthly Accuracy: 0.5946\n",
      "\n",
      "▶ Trying config 6/12: {'changepoint_prior_scale': 0.05, 'n_changepoints': 10, 'seasonality_mode': 'additive', 'seasonality_prior_scale': 5.0}\n"
     ]
    },
    {
     "name": "stderr",
     "output_type": "stream",
     "text": [
      "00:53:22 - cmdstanpy - INFO - Chain [1] done processing\n",
      "C:\\Users\\Omkar Gadade\\AppData\\Local\\Temp\\ipykernel_20032\\912138952.py:7: DeprecationWarning: DataFrameGroupBy.apply operated on the grouping columns. This behavior is deprecated, and in a future version of pandas the grouping columns will be excluded from the operation. Either pass `include_groups=False` to exclude the groupings or explicitly select the grouping columns after groupby to silence this warning.\n",
      "  acc_df = df.groupby('month').apply(\n",
      "00:53:22 - cmdstanpy - INFO - Chain [1] start processing\n",
      "00:53:22 - cmdstanpy - INFO - Chain [1] done processing\n",
      "C:\\Users\\Omkar Gadade\\AppData\\Local\\Temp\\ipykernel_20032\\912138952.py:7: DeprecationWarning: DataFrameGroupBy.apply operated on the grouping columns. This behavior is deprecated, and in a future version of pandas the grouping columns will be excluded from the operation. Either pass `include_groups=False` to exclude the groupings or explicitly select the grouping columns after groupby to silence this warning.\n",
      "  acc_df = df.groupby('month').apply(\n",
      "00:53:22 - cmdstanpy - INFO - Chain [1] start processing\n"
     ]
    },
    {
     "name": "stdout",
     "output_type": "stream",
     "text": [
      "🔹 Monthly Accuracy: 0.5946\n",
      "\n",
      "▶ Trying config 7/12: {'changepoint_prior_scale': 0.05, 'n_changepoints': 20, 'seasonality_mode': 'additive', 'seasonality_prior_scale': 1.0}\n",
      "🔹 Monthly Accuracy: 0.5913\n",
      "\n",
      "▶ Trying config 8/12: {'changepoint_prior_scale': 0.05, 'n_changepoints': 20, 'seasonality_mode': 'additive', 'seasonality_prior_scale': 5.0}\n"
     ]
    },
    {
     "name": "stderr",
     "output_type": "stream",
     "text": [
      "00:53:22 - cmdstanpy - INFO - Chain [1] done processing\n",
      "C:\\Users\\Omkar Gadade\\AppData\\Local\\Temp\\ipykernel_20032\\912138952.py:7: DeprecationWarning: DataFrameGroupBy.apply operated on the grouping columns. This behavior is deprecated, and in a future version of pandas the grouping columns will be excluded from the operation. Either pass `include_groups=False` to exclude the groupings or explicitly select the grouping columns after groupby to silence this warning.\n",
      "  acc_df = df.groupby('month').apply(\n",
      "00:53:22 - cmdstanpy - INFO - Chain [1] start processing\n",
      "00:53:22 - cmdstanpy - INFO - Chain [1] done processing\n"
     ]
    },
    {
     "name": "stdout",
     "output_type": "stream",
     "text": [
      "🔹 Monthly Accuracy: 0.5913\n",
      "\n",
      "▶ Trying config 9/12: {'changepoint_prior_scale': 0.1, 'n_changepoints': 10, 'seasonality_mode': 'additive', 'seasonality_prior_scale': 1.0}\n"
     ]
    },
    {
     "name": "stderr",
     "output_type": "stream",
     "text": [
      "C:\\Users\\Omkar Gadade\\AppData\\Local\\Temp\\ipykernel_20032\\912138952.py:7: DeprecationWarning: DataFrameGroupBy.apply operated on the grouping columns. This behavior is deprecated, and in a future version of pandas the grouping columns will be excluded from the operation. Either pass `include_groups=False` to exclude the groupings or explicitly select the grouping columns after groupby to silence this warning.\n",
      "  acc_df = df.groupby('month').apply(\n",
      "00:53:22 - cmdstanpy - INFO - Chain [1] start processing\n",
      "00:53:22 - cmdstanpy - INFO - Chain [1] done processing\n",
      "C:\\Users\\Omkar Gadade\\AppData\\Local\\Temp\\ipykernel_20032\\912138952.py:7: DeprecationWarning: DataFrameGroupBy.apply operated on the grouping columns. This behavior is deprecated, and in a future version of pandas the grouping columns will be excluded from the operation. Either pass `include_groups=False` to exclude the groupings or explicitly select the grouping columns after groupby to silence this warning.\n",
      "  acc_df = df.groupby('month').apply(\n",
      "00:53:22 - cmdstanpy - INFO - Chain [1] start processing\n"
     ]
    },
    {
     "name": "stdout",
     "output_type": "stream",
     "text": [
      "🔹 Monthly Accuracy: 0.5801\n",
      "\n",
      "▶ Trying config 10/12: {'changepoint_prior_scale': 0.1, 'n_changepoints': 10, 'seasonality_mode': 'additive', 'seasonality_prior_scale': 5.0}\n",
      "🔹 Monthly Accuracy: 0.5801\n",
      "\n",
      "▶ Trying config 11/12: {'changepoint_prior_scale': 0.1, 'n_changepoints': 20, 'seasonality_mode': 'additive', 'seasonality_prior_scale': 1.0}\n"
     ]
    },
    {
     "name": "stderr",
     "output_type": "stream",
     "text": [
      "00:53:22 - cmdstanpy - INFO - Chain [1] done processing\n",
      "C:\\Users\\Omkar Gadade\\AppData\\Local\\Temp\\ipykernel_20032\\912138952.py:7: DeprecationWarning: DataFrameGroupBy.apply operated on the grouping columns. This behavior is deprecated, and in a future version of pandas the grouping columns will be excluded from the operation. Either pass `include_groups=False` to exclude the groupings or explicitly select the grouping columns after groupby to silence this warning.\n",
      "  acc_df = df.groupby('month').apply(\n",
      "00:53:22 - cmdstanpy - INFO - Chain [1] start processing\n",
      "00:53:22 - cmdstanpy - INFO - Chain [1] done processing\n",
      "C:\\Users\\Omkar Gadade\\AppData\\Local\\Temp\\ipykernel_20032\\912138952.py:7: DeprecationWarning: DataFrameGroupBy.apply operated on the grouping columns. This behavior is deprecated, and in a future version of pandas the grouping columns will be excluded from the operation. Either pass `include_groups=False` to exclude the groupings or explicitly select the grouping columns after groupby to silence this warning.\n",
      "  acc_df = df.groupby('month').apply(\n"
     ]
    },
    {
     "name": "stdout",
     "output_type": "stream",
     "text": [
      "🔹 Monthly Accuracy: 0.5774\n",
      "\n",
      "▶ Trying config 12/12: {'changepoint_prior_scale': 0.1, 'n_changepoints': 20, 'seasonality_mode': 'additive', 'seasonality_prior_scale': 5.0}\n",
      "🔹 Monthly Accuracy: 0.5774\n",
      "\n",
      "✅ Best Parameters: {'changepoint_prior_scale': 0.05, 'n_changepoints': 10, 'seasonality_mode': 'additive', 'seasonality_prior_scale': 1.0}\n",
      "✅ Best Monthly Validation Accuracy: 0.5946\n"
     ]
    }
   ],
   "source": [
    "# 4. Grid search\n",
    "best_score = -np.inf\n",
    "best_params = None\n",
    "\n",
    "for i, params in enumerate(grid):\n",
    "    print(f\"\\n▶ Trying config {i+1}/{len(grid)}: {params}\")\n",
    "    \n",
    "    model = Prophet(\n",
    "        changepoint_prior_scale=params['changepoint_prior_scale'],\n",
    "        seasonality_prior_scale=params['seasonality_prior_scale'],\n",
    "        seasonality_mode=params['seasonality_mode'],\n",
    "        n_changepoints=params['n_changepoints'],\n",
    "        uncertainty_samples=0  # Avoids sampling\n",
    "    )\n",
    "    \n",
    "    model.fit(train_df)\n",
    "\n",
    "    # Predict over future matching val_df\n",
    "    future = model.make_future_dataframe(periods=len(val_df), freq='W-SAT')\n",
    "    forecast = model.predict(future)\n",
    "\n",
    "    # Align predictions with val_df\n",
    "    val_pred_df = forecast[forecast['ds'].isin(val_df['ds'])]\n",
    "    val_merged = pd.merge(val_df, val_pred_df[['ds', 'yhat']], on='ds', how='left')\n",
    "\n",
    "    # Evaluate monthly accuracy\n",
    "    acc = monthly_accuracy(val_merged['y'], val_merged['yhat'], val_merged['ds'])\n",
    "\n",
    "    print(f\"🔹 Monthly Accuracy: {acc:.4f}\")\n",
    "\n",
    "    # Keep best config\n",
    "    if acc > best_score:\n",
    "        best_score = acc\n",
    "        best_params = params\n",
    "        # Save best model\n",
    "        joblib.dump(model, 'model/prophet_model_best.pkl')\n",
    "\n",
    "# 5. Print final result\n",
    "print(\"\\n✅ Best Parameters:\", best_params)\n",
    "print(f\"✅ Best Monthly Validation Accuracy: {best_score:.4f}\")"
   ]
  },
  {
   "cell_type": "code",
   "execution_count": 110,
   "id": "919b88e8",
   "metadata": {},
   "outputs": [
    {
     "name": "stdout",
     "output_type": "stream",
     "text": [
      "\n",
      "✅ Best Parameters: {'changepoint_prior_scale': 0.05, 'n_changepoints': 10, 'seasonality_mode': 'additive', 'seasonality_prior_scale': 1.0}\n",
      "✅ Best Monthly Validation Accuracy: 0.5946\n"
     ]
    }
   ],
   "source": [
    "# 5. Print final result\n",
    "print(\"\\n✅ Best Parameters:\", best_params)\n",
    "print(f\"✅ Best Monthly Validation Accuracy: {best_score:.4f}\")"
   ]
  },
  {
   "cell_type": "code",
   "execution_count": null,
   "id": "c0e84add",
   "metadata": {},
   "outputs": [],
   "source": []
  },
  {
   "cell_type": "code",
   "execution_count": null,
   "id": "0ef6ac64",
   "metadata": {},
   "outputs": [],
   "source": []
  },
  {
   "cell_type": "code",
   "execution_count": null,
   "id": "79b00f0a",
   "metadata": {},
   "outputs": [],
   "source": []
  },
  {
   "cell_type": "code",
   "execution_count": 200,
   "id": "a20fa5e3",
   "metadata": {},
   "outputs": [],
   "source": [
    "import warnings\n",
    "warnings.filterwarnings('ignore')\n"
   ]
  },
  {
   "cell_type": "code",
   "execution_count": 201,
   "id": "859315e0",
   "metadata": {},
   "outputs": [],
   "source": [
    "import os\n",
    "file_path = os.path.join(\"data\", \"Assessment-2-Associate-DS(in).csv\")\n",
    "df = pd.read_csv(file_path, parse_dates=['weekend_date'])\n",
    "\n"
   ]
  },
  {
   "cell_type": "code",
   "execution_count": 202,
   "id": "c68e107f",
   "metadata": {},
   "outputs": [],
   "source": [
    "# Create output folders\n",
    "os.makedirs(\"models\", exist_ok=True)\n",
    "os.makedirs(\"output\", exist_ok=True)"
   ]
  },
  {
   "cell_type": "code",
   "execution_count": 203,
   "id": "2ba82dd4",
   "metadata": {},
   "outputs": [],
   "source": [
    "df.columns = ['weekend_date', 'channel', 'brand', 'category', 'sub_category',\n",
    "       'serial_num', 'quantity']"
   ]
  },
  {
   "cell_type": "code",
   "execution_count": 204,
   "id": "f06dbbb7",
   "metadata": {},
   "outputs": [],
   "source": [
    "serial_nums = np.sort(df['serial_num'].unique())\n"
   ]
  },
  {
   "cell_type": "code",
   "execution_count": 205,
   "id": "9a4bb181",
   "metadata": {},
   "outputs": [
    {
     "data": {
      "text/plain": [
       "array([1, 2, 3, 4, 5], dtype=int64)"
      ]
     },
     "execution_count": 205,
     "metadata": {},
     "output_type": "execute_result"
    }
   ],
   "source": [
    "serial_nums"
   ]
  },
  {
   "cell_type": "code",
   "execution_count": 206,
   "id": "793010a9",
   "metadata": {},
   "outputs": [],
   "source": [
    "df['weekend_date'] = pd.to_datetime(df['weekend_date'].str.split().str[0], dayfirst=True, errors='coerce')"
   ]
  },
  {
   "cell_type": "code",
   "execution_count": 207,
   "id": "6771eaa1",
   "metadata": {},
   "outputs": [],
   "source": [
    "import sys\n",
    "import os\n",
    "from prophet import Prophet\n",
    "from contextlib import redirect_stdout, redirect_stderr\n",
    "\n",
    "\n"
   ]
  },
  {
   "cell_type": "code",
   "execution_count": 209,
   "id": "4f287fce",
   "metadata": {},
   "outputs": [
    {
     "name": "stderr",
     "output_type": "stream",
     "text": [
      "18:38:52 - cmdstanpy - INFO - Chain [1] start processing\n",
      "18:38:52 - cmdstanpy - INFO - Chain [1] done processing\n",
      "18:38:52 - cmdstanpy - INFO - Chain [1] start processing\n",
      "18:38:52 - cmdstanpy - INFO - Chain [1] done processing\n"
     ]
    },
    {
     "name": "stdout",
     "output_type": "stream",
     "text": [
      "Serial 1 - Monthly Accuracy:\n",
      "   month  val_accuracy\n",
      "0      6     71.324336\n",
      "1      7     61.738856\n",
      "2      8     43.775670\n",
      "\n",
      "Serial 1 -Mean Monthly Validation Accuracy: 58.9463\n",
      "\n",
      "Serial 2 - Monthly Accuracy:\n",
      "   month  val_accuracy\n",
      "0      6     23.657094\n",
      "1      7     34.649869\n",
      "2      8     28.285948\n",
      "\n",
      "Serial 2 -Mean Monthly Validation Accuracy: 28.8643\n",
      "\n"
     ]
    },
    {
     "name": "stderr",
     "output_type": "stream",
     "text": [
      "18:38:52 - cmdstanpy - INFO - Chain [1] start processing\n",
      "18:38:52 - cmdstanpy - INFO - Chain [1] done processing\n",
      "18:38:52 - cmdstanpy - INFO - Chain [1] start processing\n",
      "18:38:52 - cmdstanpy - INFO - Chain [1] done processing\n"
     ]
    },
    {
     "name": "stdout",
     "output_type": "stream",
     "text": [
      "Serial 3 - Monthly Accuracy:\n",
      "   month  val_accuracy\n",
      "0      6     20.680870\n",
      "1      7   -114.292451\n",
      "2      8     42.190003\n",
      "\n",
      "Serial 3 -Mean Monthly Validation Accuracy: -17.1405\n",
      "\n",
      "Serial 4 - Monthly Accuracy:\n",
      "   month  val_accuracy\n",
      "0      6     46.068153\n",
      "1      7     51.370808\n",
      "2      8      9.758943\n",
      "\n",
      "Serial 4 -Mean Monthly Validation Accuracy: 35.7326\n",
      "\n"
     ]
    },
    {
     "name": "stderr",
     "output_type": "stream",
     "text": [
      "18:38:53 - cmdstanpy - INFO - Chain [1] start processing\n",
      "18:38:53 - cmdstanpy - INFO - Chain [1] done processing\n"
     ]
    },
    {
     "name": "stdout",
     "output_type": "stream",
     "text": [
      "Serial 5 - Monthly Accuracy:\n",
      "   month  val_accuracy\n",
      "0      6  -7916.496799\n",
      "\n",
      "Serial 5 -Mean Monthly Validation Accuracy: -7916.4968\n",
      "\n"
     ]
    }
   ],
   "source": [
    "# Loop through all unique serial numbers and run Prophet forecasting for each\n",
    "\n",
    "for serial in serial_nums:\n",
    "    # Prepare data for this serial number\n",
    "    df_serial = df[df['serial_num'] == serial][['weekend_date', 'quantity']].rename(columns={\n",
    "        'weekend_date': 'ds',\n",
    "        'quantity': 'y'\n",
    "    })\n",
    "    df_serial = df_serial.groupby('ds', as_index=False).agg({'y': 'sum'})\n",
    "\n",
    "    # Split train/val\n",
    "    train_df = df_serial[df_serial['ds'] < '2024-06-01']\n",
    "    val_df = df_serial[(df_serial['ds'] >= '2024-06-01') & (df_serial['ds'] < '2024-09-01')]\n",
    "\n",
    "    # Fit Prophet\n",
    "    model = Prophet()\n",
    "    \n",
    "    model.fit(train_df)\n",
    "    \n",
    "    \n",
    "\n",
    "    num_weeks = val_df.shape[0]\n",
    "\n",
    "\n",
    "    # Forecast for validation period\n",
    "    future = model.make_future_dataframe(periods=num_weeks, freq='W-SAT')\n",
    "    forecast = model.predict(future)\n",
    "    val_forecast = forecast[['ds', 'yhat']]\n",
    "    val_full = pd.merge(val_df, val_forecast, on='ds', how='left')\n",
    "\n",
    "\n",
    "    # Ensure ds column is datetime\n",
    "    val_full['ds'] = pd.to_datetime(val_full['ds'])\n",
    "\n",
    "    # Extract month and year\n",
    "    val_full['month'] = val_full['ds'].dt.month\n",
    "    val_full['year'] = val_full['ds'].dt.year\n",
    "\n",
    "    # Filter for Jun, Jul, Aug 2024 only\n",
    "    val_filtered = val_full[(val_full['year'] == 2024) & (val_full['month'].isin([6, 7, 8]))]\n",
    "\n",
    "    # Group by month\n",
    "    monthly_accuracy = val_filtered.groupby('month').apply(\n",
    "    lambda x: (1 - (np.abs(x['yhat'] - x['y']).sum() / x['y'].sum()))*100\n",
    "    ).reset_index(name='val_accuracy')\n",
    "\n",
    "    print(f\"Serial {serial} - Monthly Accuracy:\\n{monthly_accuracy}\\n\")\n",
    "    print(f\"Serial {serial} -Mean Monthly Validation Accuracy: {monthly_accuracy['val_accuracy'].mean():.4f}\\n\")\n",
    "\n",
    "    "
   ]
  },
  {
   "cell_type": "code",
   "execution_count": null,
   "id": "58f67a31",
   "metadata": {},
   "outputs": [],
   "source": []
  },
  {
   "cell_type": "code",
   "execution_count": null,
   "id": "dd4c36fe",
   "metadata": {},
   "outputs": [],
   "source": []
  },
  {
   "cell_type": "code",
   "execution_count": null,
   "id": "c67b3dd7",
   "metadata": {},
   "outputs": [],
   "source": []
  },
  {
   "cell_type": "code",
   "execution_count": null,
   "id": "845b4d1a",
   "metadata": {},
   "outputs": [],
   "source": []
  },
  {
   "cell_type": "code",
   "execution_count": null,
   "id": "03522ce1",
   "metadata": {},
   "outputs": [],
   "source": []
  },
  {
   "cell_type": "code",
   "execution_count": null,
   "id": "3f88dfef",
   "metadata": {},
   "outputs": [],
   "source": []
  },
  {
   "cell_type": "code",
   "execution_count": null,
   "id": "baf85bcf",
   "metadata": {},
   "outputs": [],
   "source": []
  },
  {
   "cell_type": "code",
   "execution_count": null,
   "id": "d0d3d41f",
   "metadata": {},
   "outputs": [],
   "source": []
  },
  {
   "cell_type": "markdown",
   "id": "005fecc4",
   "metadata": {},
   "source": [
    "# *Final_Code*"
   ]
  },
  {
   "cell_type": "code",
   "execution_count": null,
   "id": "86208414",
   "metadata": {},
   "outputs": [],
   "source": [
    "import pandas as pd\n",
    "from prophet import Prophet\n",
    "from sklearn.metrics import mean_absolute_error\n",
    "import joblib\n",
    "import os"
   ]
  },
  {
   "cell_type": "code",
   "execution_count": 192,
   "id": "1ac25245",
   "metadata": {},
   "outputs": [],
   "source": [
    "import warnings\n",
    "warnings.filterwarnings('ignore')"
   ]
  },
  {
   "cell_type": "code",
   "execution_count": 193,
   "id": "4d1b8063",
   "metadata": {},
   "outputs": [],
   "source": [
    "import os\n",
    "file_path = os.path.join(\"data\", \"Assessment-2-Associate-DS(in).csv\")\n",
    "df = pd.read_csv(file_path, parse_dates=['weekend_date'])\n"
   ]
  },
  {
   "cell_type": "code",
   "execution_count": 194,
   "id": "6a47e5c0",
   "metadata": {},
   "outputs": [],
   "source": [
    "df.columns = ['weekend_date', 'channel', 'brand', 'category', 'sub_category',\n",
    "       'serial_num', 'quantity']"
   ]
  },
  {
   "cell_type": "code",
   "execution_count": 195,
   "id": "a1606ba8",
   "metadata": {},
   "outputs": [],
   "source": [
    "serial_nums = np.sort(df['serial_num'].unique())"
   ]
  },
  {
   "cell_type": "code",
   "execution_count": 196,
   "id": "b9900962",
   "metadata": {},
   "outputs": [
    {
     "data": {
      "text/plain": [
       "array([1, 2, 3, 4, 5], dtype=int64)"
      ]
     },
     "execution_count": 196,
     "metadata": {},
     "output_type": "execute_result"
    }
   ],
   "source": [
    "serial_nums"
   ]
  },
  {
   "cell_type": "code",
   "execution_count": 197,
   "id": "cff3b7f6",
   "metadata": {},
   "outputs": [],
   "source": [
    "df['weekend_date'] = pd.to_datetime(df['weekend_date'].str.split().str[0], dayfirst=True, errors='coerce')"
   ]
  },
  {
   "cell_type": "code",
   "execution_count": null,
   "id": "66d8d8e2",
   "metadata": {},
   "outputs": [],
   "source": [
    "# 3. Create model folder if it doesn't exist\n",
    "os.makedirs('Validation_Models', exist_ok=True)"
   ]
  },
  {
   "cell_type": "code",
   "execution_count": 199,
   "id": "3f6ddb53",
   "metadata": {},
   "outputs": [
    {
     "name": "stderr",
     "output_type": "stream",
     "text": [
      "03:49:47 - cmdstanpy - INFO - Chain [1] start processing\n",
      "03:49:47 - cmdstanpy - INFO - Chain [1] done processing\n",
      "03:49:47 - cmdstanpy - INFO - Chain [1] start processing\n"
     ]
    },
    {
     "name": "stdout",
     "output_type": "stream",
     "text": [
      "\n",
      "▶ Serial_no1: Trying config 1/12: {'changepoint_prior_scale': 0.01, 'n_changepoints': 10, 'seasonality_mode': 'additive', 'seasonality_prior_scale': 1.0}\n",
      "Monthly Accuracy for Serial No 1: 0.5843\n",
      "\n",
      "▶ Serial_no1: Trying config 2/12: {'changepoint_prior_scale': 0.01, 'n_changepoints': 10, 'seasonality_mode': 'additive', 'seasonality_prior_scale': 5.0}\n"
     ]
    },
    {
     "name": "stderr",
     "output_type": "stream",
     "text": [
      "03:49:47 - cmdstanpy - INFO - Chain [1] done processing\n",
      "03:49:47 - cmdstanpy - INFO - Chain [1] start processing\n",
      "03:49:47 - cmdstanpy - INFO - Chain [1] done processing\n",
      "03:49:47 - cmdstanpy - INFO - Chain [1] start processing\n",
      "03:49:47 - cmdstanpy - INFO - Chain [1] done processing\n"
     ]
    },
    {
     "name": "stdout",
     "output_type": "stream",
     "text": [
      "Monthly Accuracy for Serial No 1: 0.5843\n",
      "\n",
      "▶ Serial_no1: Trying config 3/12: {'changepoint_prior_scale': 0.01, 'n_changepoints': 20, 'seasonality_mode': 'additive', 'seasonality_prior_scale': 1.0}\n",
      "Monthly Accuracy for Serial No 1: 0.5666\n",
      "\n",
      "▶ Serial_no1: Trying config 4/12: {'changepoint_prior_scale': 0.01, 'n_changepoints': 20, 'seasonality_mode': 'additive', 'seasonality_prior_scale': 5.0}\n",
      "Monthly Accuracy for Serial No 1: 0.5666\n",
      "\n",
      "▶ Serial_no1: Trying config 5/12: {'changepoint_prior_scale': 0.05, 'n_changepoints': 10, 'seasonality_mode': 'additive', 'seasonality_prior_scale': 1.0}\n"
     ]
    },
    {
     "name": "stderr",
     "output_type": "stream",
     "text": [
      "03:49:47 - cmdstanpy - INFO - Chain [1] start processing\n",
      "03:49:47 - cmdstanpy - INFO - Chain [1] done processing\n",
      "03:49:47 - cmdstanpy - INFO - Chain [1] start processing\n",
      "03:49:47 - cmdstanpy - INFO - Chain [1] done processing\n"
     ]
    },
    {
     "name": "stdout",
     "output_type": "stream",
     "text": [
      "Monthly Accuracy for Serial No 1: 0.5946\n",
      "\n",
      "▶ Serial_no1: Trying config 6/12: {'changepoint_prior_scale': 0.05, 'n_changepoints': 10, 'seasonality_mode': 'additive', 'seasonality_prior_scale': 5.0}\n",
      "Monthly Accuracy for Serial No 1: 0.5946\n",
      "\n",
      "▶ Serial_no1: Trying config 7/12: {'changepoint_prior_scale': 0.05, 'n_changepoints': 20, 'seasonality_mode': 'additive', 'seasonality_prior_scale': 1.0}\n"
     ]
    },
    {
     "name": "stderr",
     "output_type": "stream",
     "text": [
      "03:49:47 - cmdstanpy - INFO - Chain [1] start processing\n",
      "03:49:47 - cmdstanpy - INFO - Chain [1] done processing\n",
      "03:49:48 - cmdstanpy - INFO - Chain [1] start processing\n",
      "03:49:48 - cmdstanpy - INFO - Chain [1] done processing\n",
      "03:49:48 - cmdstanpy - INFO - Chain [1] start processing\n",
      "03:49:48 - cmdstanpy - INFO - Chain [1] done processing\n"
     ]
    },
    {
     "name": "stdout",
     "output_type": "stream",
     "text": [
      "Monthly Accuracy for Serial No 1: 0.5913\n",
      "\n",
      "▶ Serial_no1: Trying config 8/12: {'changepoint_prior_scale': 0.05, 'n_changepoints': 20, 'seasonality_mode': 'additive', 'seasonality_prior_scale': 5.0}\n",
      "Monthly Accuracy for Serial No 1: 0.5913\n",
      "\n",
      "▶ Serial_no1: Trying config 9/12: {'changepoint_prior_scale': 0.1, 'n_changepoints': 10, 'seasonality_mode': 'additive', 'seasonality_prior_scale': 1.0}\n"
     ]
    },
    {
     "name": "stderr",
     "output_type": "stream",
     "text": [
      "03:49:48 - cmdstanpy - INFO - Chain [1] start processing\n",
      "03:49:48 - cmdstanpy - INFO - Chain [1] done processing\n",
      "03:49:48 - cmdstanpy - INFO - Chain [1] start processing\n"
     ]
    },
    {
     "name": "stdout",
     "output_type": "stream",
     "text": [
      "Monthly Accuracy for Serial No 1: 0.5801\n",
      "\n",
      "▶ Serial_no1: Trying config 10/12: {'changepoint_prior_scale': 0.1, 'n_changepoints': 10, 'seasonality_mode': 'additive', 'seasonality_prior_scale': 5.0}\n",
      "Monthly Accuracy for Serial No 1: 0.5801\n",
      "\n",
      "▶ Serial_no1: Trying config 11/12: {'changepoint_prior_scale': 0.1, 'n_changepoints': 20, 'seasonality_mode': 'additive', 'seasonality_prior_scale': 1.0}\n"
     ]
    },
    {
     "name": "stderr",
     "output_type": "stream",
     "text": [
      "03:49:48 - cmdstanpy - INFO - Chain [1] done processing\n",
      "03:49:48 - cmdstanpy - INFO - Chain [1] start processing\n",
      "03:49:48 - cmdstanpy - INFO - Chain [1] done processing\n",
      "03:49:48 - cmdstanpy - INFO - Chain [1] start processing\n"
     ]
    },
    {
     "name": "stdout",
     "output_type": "stream",
     "text": [
      "Monthly Accuracy for Serial No 1: 0.5774\n",
      "\n",
      "▶ Serial_no1: Trying config 12/12: {'changepoint_prior_scale': 0.1, 'n_changepoints': 20, 'seasonality_mode': 'additive', 'seasonality_prior_scale': 5.0}\n",
      "Monthly Accuracy for Serial No 1: 0.5774\n",
      "\n",
      "Serial_no:1 Best Parameters: {'changepoint_prior_scale': 0.05, 'n_changepoints': 10, 'seasonality_mode': 'additive', 'seasonality_prior_scale': 1.0}\n",
      "Serial_no:1 Best Monthly Validation Accuracy: 0.5946\n",
      "\n",
      "==================================================\n",
      "\n",
      "\n",
      "▶ Serial_no2: Trying config 1/12: {'changepoint_prior_scale': 0.01, 'n_changepoints': 10, 'seasonality_mode': 'additive', 'seasonality_prior_scale': 1.0}\n"
     ]
    },
    {
     "name": "stderr",
     "output_type": "stream",
     "text": [
      "03:49:48 - cmdstanpy - INFO - Chain [1] done processing\n",
      "03:49:48 - cmdstanpy - INFO - Chain [1] start processing\n",
      "03:49:48 - cmdstanpy - INFO - Chain [1] done processing\n"
     ]
    },
    {
     "name": "stdout",
     "output_type": "stream",
     "text": [
      "Monthly Accuracy for Serial No 2: 0.3044\n",
      "\n",
      "▶ Serial_no2: Trying config 2/12: {'changepoint_prior_scale': 0.01, 'n_changepoints': 10, 'seasonality_mode': 'additive', 'seasonality_prior_scale': 5.0}\n",
      "Monthly Accuracy for Serial No 2: 0.3044\n",
      "\n",
      "▶ Serial_no2: Trying config 3/12: {'changepoint_prior_scale': 0.01, 'n_changepoints': 20, 'seasonality_mode': 'additive', 'seasonality_prior_scale': 1.0}\n"
     ]
    },
    {
     "name": "stderr",
     "output_type": "stream",
     "text": [
      "03:49:48 - cmdstanpy - INFO - Chain [1] start processing\n",
      "03:49:49 - cmdstanpy - INFO - Chain [1] done processing\n",
      "03:49:49 - cmdstanpy - INFO - Chain [1] start processing\n",
      "03:49:49 - cmdstanpy - INFO - Chain [1] done processing\n"
     ]
    },
    {
     "name": "stdout",
     "output_type": "stream",
     "text": [
      "Monthly Accuracy for Serial No 2: 0.2992\n",
      "\n",
      "▶ Serial_no2: Trying config 4/12: {'changepoint_prior_scale': 0.01, 'n_changepoints': 20, 'seasonality_mode': 'additive', 'seasonality_prior_scale': 5.0}\n",
      "Monthly Accuracy for Serial No 2: 0.2992\n",
      "\n",
      "▶ Serial_no2: Trying config 5/12: {'changepoint_prior_scale': 0.05, 'n_changepoints': 10, 'seasonality_mode': 'additive', 'seasonality_prior_scale': 1.0}\n"
     ]
    },
    {
     "name": "stderr",
     "output_type": "stream",
     "text": [
      "03:49:49 - cmdstanpy - INFO - Chain [1] start processing\n",
      "03:49:49 - cmdstanpy - INFO - Chain [1] done processing\n",
      "03:49:49 - cmdstanpy - INFO - Chain [1] start processing\n",
      "03:49:49 - cmdstanpy - INFO - Chain [1] done processing\n",
      "03:49:49 - cmdstanpy - INFO - Chain [1] start processing\n"
     ]
    },
    {
     "name": "stdout",
     "output_type": "stream",
     "text": [
      "Monthly Accuracy for Serial No 2: 0.2886\n",
      "\n",
      "▶ Serial_no2: Trying config 6/12: {'changepoint_prior_scale': 0.05, 'n_changepoints': 10, 'seasonality_mode': 'additive', 'seasonality_prior_scale': 5.0}\n",
      "Monthly Accuracy for Serial No 2: 0.2886\n",
      "\n",
      "▶ Serial_no2: Trying config 7/12: {'changepoint_prior_scale': 0.05, 'n_changepoints': 20, 'seasonality_mode': 'additive', 'seasonality_prior_scale': 1.0}\n"
     ]
    },
    {
     "name": "stderr",
     "output_type": "stream",
     "text": [
      "03:49:49 - cmdstanpy - INFO - Chain [1] done processing\n",
      "03:49:49 - cmdstanpy - INFO - Chain [1] start processing\n",
      "03:49:49 - cmdstanpy - INFO - Chain [1] done processing\n"
     ]
    },
    {
     "name": "stdout",
     "output_type": "stream",
     "text": [
      "Monthly Accuracy for Serial No 2: 0.2886\n",
      "\n",
      "▶ Serial_no2: Trying config 8/12: {'changepoint_prior_scale': 0.05, 'n_changepoints': 20, 'seasonality_mode': 'additive', 'seasonality_prior_scale': 5.0}\n",
      "Monthly Accuracy for Serial No 2: 0.2886\n",
      "\n",
      "▶ Serial_no2: Trying config 9/12: {'changepoint_prior_scale': 0.1, 'n_changepoints': 10, 'seasonality_mode': 'additive', 'seasonality_prior_scale': 1.0}\n"
     ]
    },
    {
     "name": "stderr",
     "output_type": "stream",
     "text": [
      "03:49:49 - cmdstanpy - INFO - Chain [1] start processing\n",
      "03:49:50 - cmdstanpy - INFO - Chain [1] done processing\n",
      "03:49:50 - cmdstanpy - INFO - Chain [1] start processing\n",
      "03:49:50 - cmdstanpy - INFO - Chain [1] done processing\n"
     ]
    },
    {
     "name": "stdout",
     "output_type": "stream",
     "text": [
      "Monthly Accuracy for Serial No 2: 0.2910\n",
      "\n",
      "▶ Serial_no2: Trying config 10/12: {'changepoint_prior_scale': 0.1, 'n_changepoints': 10, 'seasonality_mode': 'additive', 'seasonality_prior_scale': 5.0}\n",
      "Monthly Accuracy for Serial No 2: 0.2910\n",
      "\n",
      "▶ Serial_no2: Trying config 11/12: {'changepoint_prior_scale': 0.1, 'n_changepoints': 20, 'seasonality_mode': 'additive', 'seasonality_prior_scale': 1.0}\n"
     ]
    },
    {
     "name": "stderr",
     "output_type": "stream",
     "text": [
      "03:49:50 - cmdstanpy - INFO - Chain [1] start processing\n",
      "03:49:50 - cmdstanpy - INFO - Chain [1] done processing\n",
      "03:49:50 - cmdstanpy - INFO - Chain [1] start processing\n",
      "03:49:50 - cmdstanpy - INFO - Chain [1] done processing\n"
     ]
    },
    {
     "name": "stdout",
     "output_type": "stream",
     "text": [
      "Monthly Accuracy for Serial No 2: 0.2906\n",
      "\n",
      "▶ Serial_no2: Trying config 12/12: {'changepoint_prior_scale': 0.1, 'n_changepoints': 20, 'seasonality_mode': 'additive', 'seasonality_prior_scale': 5.0}\n",
      "Monthly Accuracy for Serial No 2: 0.2906\n",
      "\n",
      "Serial_no:2 Best Parameters: {'changepoint_prior_scale': 0.01, 'n_changepoints': 10, 'seasonality_mode': 'additive', 'seasonality_prior_scale': 1.0}\n",
      "Serial_no:2 Best Monthly Validation Accuracy: 0.3044\n",
      "\n",
      "==================================================\n",
      "\n",
      "\n",
      "▶ Serial_no3: Trying config 1/12: {'changepoint_prior_scale': 0.01, 'n_changepoints': 10, 'seasonality_mode': 'additive', 'seasonality_prior_scale': 1.0}\n"
     ]
    },
    {
     "name": "stderr",
     "output_type": "stream",
     "text": [
      "03:49:50 - cmdstanpy - INFO - Chain [1] start processing\n",
      "03:49:50 - cmdstanpy - INFO - Chain [1] done processing\n",
      "03:49:50 - cmdstanpy - INFO - Chain [1] start processing\n",
      "03:49:50 - cmdstanpy - INFO - Chain [1] done processing\n"
     ]
    },
    {
     "name": "stdout",
     "output_type": "stream",
     "text": [
      "Monthly Accuracy for Serial No 3: -0.1744\n",
      "\n",
      "▶ Serial_no3: Trying config 2/12: {'changepoint_prior_scale': 0.01, 'n_changepoints': 10, 'seasonality_mode': 'additive', 'seasonality_prior_scale': 5.0}\n",
      "Monthly Accuracy for Serial No 3: -0.1744\n",
      "\n",
      "▶ Serial_no3: Trying config 3/12: {'changepoint_prior_scale': 0.01, 'n_changepoints': 20, 'seasonality_mode': 'additive', 'seasonality_prior_scale': 1.0}\n"
     ]
    },
    {
     "name": "stderr",
     "output_type": "stream",
     "text": [
      "03:49:50 - cmdstanpy - INFO - Chain [1] start processing\n",
      "03:49:51 - cmdstanpy - INFO - Chain [1] done processing\n",
      "03:49:51 - cmdstanpy - INFO - Chain [1] start processing\n",
      "03:49:51 - cmdstanpy - INFO - Chain [1] done processing\n"
     ]
    },
    {
     "name": "stdout",
     "output_type": "stream",
     "text": [
      "Monthly Accuracy for Serial No 3: -0.1478\n",
      "\n",
      "▶ Serial_no3: Trying config 4/12: {'changepoint_prior_scale': 0.01, 'n_changepoints': 20, 'seasonality_mode': 'additive', 'seasonality_prior_scale': 5.0}\n",
      "Monthly Accuracy for Serial No 3: -0.1478\n",
      "\n",
      "▶ Serial_no3: Trying config 5/12: {'changepoint_prior_scale': 0.05, 'n_changepoints': 10, 'seasonality_mode': 'additive', 'seasonality_prior_scale': 1.0}\n"
     ]
    },
    {
     "name": "stderr",
     "output_type": "stream",
     "text": [
      "03:49:51 - cmdstanpy - INFO - Chain [1] start processing\n",
      "03:49:51 - cmdstanpy - INFO - Chain [1] done processing\n",
      "03:49:51 - cmdstanpy - INFO - Chain [1] start processing\n",
      "03:49:51 - cmdstanpy - INFO - Chain [1] done processing\n"
     ]
    },
    {
     "name": "stdout",
     "output_type": "stream",
     "text": [
      "Monthly Accuracy for Serial No 3: -0.1429\n",
      "\n",
      "▶ Serial_no3: Trying config 6/12: {'changepoint_prior_scale': 0.05, 'n_changepoints': 10, 'seasonality_mode': 'additive', 'seasonality_prior_scale': 5.0}\n",
      "Monthly Accuracy for Serial No 3: -0.1429\n",
      "\n",
      "▶ Serial_no3: Trying config 7/12: {'changepoint_prior_scale': 0.05, 'n_changepoints': 20, 'seasonality_mode': 'additive', 'seasonality_prior_scale': 1.0}\n"
     ]
    },
    {
     "name": "stderr",
     "output_type": "stream",
     "text": [
      "03:49:51 - cmdstanpy - INFO - Chain [1] start processing\n",
      "03:49:51 - cmdstanpy - INFO - Chain [1] done processing\n",
      "03:49:51 - cmdstanpy - INFO - Chain [1] start processing\n",
      "03:49:52 - cmdstanpy - INFO - Chain [1] done processing\n"
     ]
    },
    {
     "name": "stdout",
     "output_type": "stream",
     "text": [
      "Monthly Accuracy for Serial No 3: -0.1389\n",
      "\n",
      "▶ Serial_no3: Trying config 8/12: {'changepoint_prior_scale': 0.05, 'n_changepoints': 20, 'seasonality_mode': 'additive', 'seasonality_prior_scale': 5.0}\n"
     ]
    },
    {
     "name": "stderr",
     "output_type": "stream",
     "text": [
      "03:49:52 - cmdstanpy - INFO - Chain [1] start processing\n",
      "03:49:52 - cmdstanpy - INFO - Chain [1] done processing\n"
     ]
    },
    {
     "name": "stdout",
     "output_type": "stream",
     "text": [
      "Monthly Accuracy for Serial No 3: -0.1389\n",
      "\n",
      "▶ Serial_no3: Trying config 9/12: {'changepoint_prior_scale': 0.1, 'n_changepoints': 10, 'seasonality_mode': 'additive', 'seasonality_prior_scale': 1.0}\n",
      "Monthly Accuracy for Serial No 3: -1.6733\n",
      "\n",
      "▶ Serial_no3: Trying config 10/12: {'changepoint_prior_scale': 0.1, 'n_changepoints': 10, 'seasonality_mode': 'additive', 'seasonality_prior_scale': 5.0}\n"
     ]
    },
    {
     "name": "stderr",
     "output_type": "stream",
     "text": [
      "03:49:52 - cmdstanpy - INFO - Chain [1] start processing\n",
      "03:49:52 - cmdstanpy - INFO - Chain [1] done processing\n",
      "03:49:52 - cmdstanpy - INFO - Chain [1] start processing\n",
      "03:49:52 - cmdstanpy - INFO - Chain [1] done processing\n"
     ]
    },
    {
     "name": "stdout",
     "output_type": "stream",
     "text": [
      "Monthly Accuracy for Serial No 3: -1.6733\n",
      "\n",
      "▶ Serial_no3: Trying config 11/12: {'changepoint_prior_scale': 0.1, 'n_changepoints': 20, 'seasonality_mode': 'additive', 'seasonality_prior_scale': 1.0}\n"
     ]
    },
    {
     "name": "stderr",
     "output_type": "stream",
     "text": [
      "03:49:52 - cmdstanpy - INFO - Chain [1] start processing\n"
     ]
    },
    {
     "name": "stdout",
     "output_type": "stream",
     "text": [
      "Monthly Accuracy for Serial No 3: -1.8777\n",
      "\n",
      "▶ Serial_no3: Trying config 12/12: {'changepoint_prior_scale': 0.1, 'n_changepoints': 20, 'seasonality_mode': 'additive', 'seasonality_prior_scale': 5.0}\n"
     ]
    },
    {
     "name": "stderr",
     "output_type": "stream",
     "text": [
      "03:49:52 - cmdstanpy - INFO - Chain [1] done processing\n",
      "03:49:53 - cmdstanpy - INFO - Chain [1] start processing\n"
     ]
    },
    {
     "name": "stdout",
     "output_type": "stream",
     "text": [
      "Monthly Accuracy for Serial No 3: -1.8777\n",
      "\n",
      "Serial_no:3 Best Parameters: {'changepoint_prior_scale': 0.05, 'n_changepoints': 20, 'seasonality_mode': 'additive', 'seasonality_prior_scale': 1.0}\n",
      "Serial_no:3 Best Monthly Validation Accuracy: -0.1389\n",
      "\n",
      "==================================================\n",
      "\n",
      "\n",
      "▶ Serial_no4: Trying config 1/12: {'changepoint_prior_scale': 0.01, 'n_changepoints': 10, 'seasonality_mode': 'additive', 'seasonality_prior_scale': 1.0}\n"
     ]
    },
    {
     "name": "stderr",
     "output_type": "stream",
     "text": [
      "03:49:53 - cmdstanpy - INFO - Chain [1] done processing\n",
      "03:49:53 - cmdstanpy - INFO - Chain [1] start processing\n",
      "03:49:53 - cmdstanpy - INFO - Chain [1] done processing\n"
     ]
    },
    {
     "name": "stdout",
     "output_type": "stream",
     "text": [
      "Monthly Accuracy for Serial No 4: 0.3568\n",
      "\n",
      "▶ Serial_no4: Trying config 2/12: {'changepoint_prior_scale': 0.01, 'n_changepoints': 10, 'seasonality_mode': 'additive', 'seasonality_prior_scale': 5.0}\n",
      "Monthly Accuracy for Serial No 4: 0.3568\n",
      "\n",
      "▶ Serial_no4: Trying config 3/12: {'changepoint_prior_scale': 0.01, 'n_changepoints': 20, 'seasonality_mode': 'additive', 'seasonality_prior_scale': 1.0}\n"
     ]
    },
    {
     "name": "stderr",
     "output_type": "stream",
     "text": [
      "03:49:53 - cmdstanpy - INFO - Chain [1] start processing\n",
      "03:49:53 - cmdstanpy - INFO - Chain [1] done processing\n",
      "03:49:53 - cmdstanpy - INFO - Chain [1] start processing\n",
      "03:49:53 - cmdstanpy - INFO - Chain [1] done processing\n"
     ]
    },
    {
     "name": "stdout",
     "output_type": "stream",
     "text": [
      "Monthly Accuracy for Serial No 4: 0.3583\n",
      "\n",
      "▶ Serial_no4: Trying config 4/12: {'changepoint_prior_scale': 0.01, 'n_changepoints': 20, 'seasonality_mode': 'additive', 'seasonality_prior_scale': 5.0}\n",
      "Monthly Accuracy for Serial No 4: 0.3583\n",
      "\n",
      "▶ Serial_no4: Trying config 5/12: {'changepoint_prior_scale': 0.05, 'n_changepoints': 10, 'seasonality_mode': 'additive', 'seasonality_prior_scale': 1.0}\n"
     ]
    },
    {
     "name": "stderr",
     "output_type": "stream",
     "text": [
      "03:49:53 - cmdstanpy - INFO - Chain [1] start processing\n",
      "03:49:53 - cmdstanpy - INFO - Chain [1] done processing\n",
      "03:49:53 - cmdstanpy - INFO - Chain [1] start processing\n",
      "03:49:53 - cmdstanpy - INFO - Chain [1] done processing\n"
     ]
    },
    {
     "name": "stdout",
     "output_type": "stream",
     "text": [
      "Monthly Accuracy for Serial No 4: 0.3575\n",
      "\n",
      "▶ Serial_no4: Trying config 6/12: {'changepoint_prior_scale': 0.05, 'n_changepoints': 10, 'seasonality_mode': 'additive', 'seasonality_prior_scale': 5.0}\n",
      "Monthly Accuracy for Serial No 4: 0.3575\n",
      "\n",
      "▶ Serial_no4: Trying config 7/12: {'changepoint_prior_scale': 0.05, 'n_changepoints': 20, 'seasonality_mode': 'additive', 'seasonality_prior_scale': 1.0}\n"
     ]
    },
    {
     "name": "stderr",
     "output_type": "stream",
     "text": [
      "03:49:53 - cmdstanpy - INFO - Chain [1] start processing\n",
      "03:49:54 - cmdstanpy - INFO - Chain [1] done processing\n",
      "03:49:54 - cmdstanpy - INFO - Chain [1] start processing\n",
      "03:49:54 - cmdstanpy - INFO - Chain [1] done processing\n"
     ]
    },
    {
     "name": "stdout",
     "output_type": "stream",
     "text": [
      "Monthly Accuracy for Serial No 4: 0.3561\n",
      "\n",
      "▶ Serial_no4: Trying config 8/12: {'changepoint_prior_scale': 0.05, 'n_changepoints': 20, 'seasonality_mode': 'additive', 'seasonality_prior_scale': 5.0}\n",
      "Monthly Accuracy for Serial No 4: 0.3561\n",
      "\n",
      "▶ Serial_no4: Trying config 9/12: {'changepoint_prior_scale': 0.1, 'n_changepoints': 10, 'seasonality_mode': 'additive', 'seasonality_prior_scale': 1.0}\n"
     ]
    },
    {
     "name": "stderr",
     "output_type": "stream",
     "text": [
      "03:49:54 - cmdstanpy - INFO - Chain [1] start processing\n",
      "03:49:54 - cmdstanpy - INFO - Chain [1] done processing\n",
      "03:49:54 - cmdstanpy - INFO - Chain [1] start processing\n",
      "03:49:54 - cmdstanpy - INFO - Chain [1] done processing\n"
     ]
    },
    {
     "name": "stdout",
     "output_type": "stream",
     "text": [
      "Monthly Accuracy for Serial No 4: 0.3595\n",
      "\n",
      "▶ Serial_no4: Trying config 10/12: {'changepoint_prior_scale': 0.1, 'n_changepoints': 10, 'seasonality_mode': 'additive', 'seasonality_prior_scale': 5.0}\n",
      "Monthly Accuracy for Serial No 4: 0.3595\n",
      "\n",
      "▶ Serial_no4: Trying config 11/12: {'changepoint_prior_scale': 0.1, 'n_changepoints': 20, 'seasonality_mode': 'additive', 'seasonality_prior_scale': 1.0}\n"
     ]
    },
    {
     "name": "stderr",
     "output_type": "stream",
     "text": [
      "03:49:54 - cmdstanpy - INFO - Chain [1] start processing\n",
      "03:49:54 - cmdstanpy - INFO - Chain [1] done processing\n",
      "03:49:54 - cmdstanpy - INFO - Chain [1] start processing\n",
      "03:49:54 - cmdstanpy - INFO - Chain [1] done processing\n"
     ]
    },
    {
     "name": "stdout",
     "output_type": "stream",
     "text": [
      "Monthly Accuracy for Serial No 4: 0.3573\n",
      "\n",
      "▶ Serial_no4: Trying config 12/12: {'changepoint_prior_scale': 0.1, 'n_changepoints': 20, 'seasonality_mode': 'additive', 'seasonality_prior_scale': 5.0}\n",
      "Monthly Accuracy for Serial No 4: 0.3573\n",
      "\n",
      "Serial_no:4 Best Parameters: {'changepoint_prior_scale': 0.1, 'n_changepoints': 10, 'seasonality_mode': 'additive', 'seasonality_prior_scale': 1.0}\n",
      "Serial_no:4 Best Monthly Validation Accuracy: 0.3595\n",
      "\n",
      "==================================================\n",
      "\n",
      "\n",
      "▶ Serial_no5: Trying config 1/12: {'changepoint_prior_scale': 0.01, 'n_changepoints': 10, 'seasonality_mode': 'additive', 'seasonality_prior_scale': 1.0}\n"
     ]
    },
    {
     "name": "stderr",
     "output_type": "stream",
     "text": [
      "03:49:54 - cmdstanpy - INFO - Chain [1] start processing\n",
      "03:49:54 - cmdstanpy - INFO - Chain [1] done processing\n",
      "03:49:55 - cmdstanpy - INFO - Chain [1] start processing\n",
      "03:49:55 - cmdstanpy - INFO - Chain [1] done processing\n",
      "03:49:55 - cmdstanpy - INFO - Chain [1] start processing\n"
     ]
    },
    {
     "name": "stdout",
     "output_type": "stream",
     "text": [
      "Monthly Accuracy for Serial No 5: -85.5770\n",
      "\n",
      "▶ Serial_no5: Trying config 2/12: {'changepoint_prior_scale': 0.01, 'n_changepoints': 10, 'seasonality_mode': 'additive', 'seasonality_prior_scale': 5.0}\n",
      "Monthly Accuracy for Serial No 5: -85.5770\n",
      "\n",
      "▶ Serial_no5: Trying config 3/12: {'changepoint_prior_scale': 0.01, 'n_changepoints': 20, 'seasonality_mode': 'additive', 'seasonality_prior_scale': 1.0}\n"
     ]
    },
    {
     "name": "stderr",
     "output_type": "stream",
     "text": [
      "03:49:55 - cmdstanpy - INFO - Chain [1] done processing\n",
      "03:49:55 - cmdstanpy - INFO - Chain [1] start processing\n",
      "03:49:55 - cmdstanpy - INFO - Chain [1] done processing\n",
      "03:49:55 - cmdstanpy - INFO - Chain [1] start processing\n"
     ]
    },
    {
     "name": "stdout",
     "output_type": "stream",
     "text": [
      "Monthly Accuracy for Serial No 5: -93.5601\n",
      "\n",
      "▶ Serial_no5: Trying config 4/12: {'changepoint_prior_scale': 0.01, 'n_changepoints': 20, 'seasonality_mode': 'additive', 'seasonality_prior_scale': 5.0}\n",
      "Monthly Accuracy for Serial No 5: -93.5601\n",
      "\n",
      "▶ Serial_no5: Trying config 5/12: {'changepoint_prior_scale': 0.05, 'n_changepoints': 10, 'seasonality_mode': 'additive', 'seasonality_prior_scale': 1.0}\n"
     ]
    },
    {
     "name": "stderr",
     "output_type": "stream",
     "text": [
      "03:49:55 - cmdstanpy - INFO - Chain [1] done processing\n",
      "03:49:55 - cmdstanpy - INFO - Chain [1] start processing\n",
      "03:49:55 - cmdstanpy - INFO - Chain [1] done processing\n",
      "03:49:55 - cmdstanpy - INFO - Chain [1] start processing\n"
     ]
    },
    {
     "name": "stdout",
     "output_type": "stream",
     "text": [
      "Monthly Accuracy for Serial No 5: -82.4197\n",
      "\n",
      "▶ Serial_no5: Trying config 6/12: {'changepoint_prior_scale': 0.05, 'n_changepoints': 10, 'seasonality_mode': 'additive', 'seasonality_prior_scale': 5.0}\n",
      "Monthly Accuracy for Serial No 5: -82.4197\n",
      "\n",
      "▶ Serial_no5: Trying config 7/12: {'changepoint_prior_scale': 0.05, 'n_changepoints': 20, 'seasonality_mode': 'additive', 'seasonality_prior_scale': 1.0}\n"
     ]
    },
    {
     "name": "stderr",
     "output_type": "stream",
     "text": [
      "03:49:55 - cmdstanpy - INFO - Chain [1] done processing\n",
      "03:49:55 - cmdstanpy - INFO - Chain [1] start processing\n",
      "03:49:55 - cmdstanpy - INFO - Chain [1] done processing\n",
      "03:49:55 - cmdstanpy - INFO - Chain [1] start processing\n",
      "03:49:55 - cmdstanpy - INFO - Chain [1] done processing\n"
     ]
    },
    {
     "name": "stdout",
     "output_type": "stream",
     "text": [
      "Monthly Accuracy for Serial No 5: -78.6222\n",
      "\n",
      "▶ Serial_no5: Trying config 8/12: {'changepoint_prior_scale': 0.05, 'n_changepoints': 20, 'seasonality_mode': 'additive', 'seasonality_prior_scale': 5.0}\n",
      "Monthly Accuracy for Serial No 5: -78.6222\n",
      "\n",
      "▶ Serial_no5: Trying config 9/12: {'changepoint_prior_scale': 0.1, 'n_changepoints': 10, 'seasonality_mode': 'additive', 'seasonality_prior_scale': 1.0}\n"
     ]
    },
    {
     "name": "stderr",
     "output_type": "stream",
     "text": [
      "03:49:55 - cmdstanpy - INFO - Chain [1] start processing\n",
      "03:49:55 - cmdstanpy - INFO - Chain [1] done processing\n",
      "03:49:56 - cmdstanpy - INFO - Chain [1] start processing\n",
      "03:49:56 - cmdstanpy - INFO - Chain [1] done processing\n"
     ]
    },
    {
     "name": "stdout",
     "output_type": "stream",
     "text": [
      "Monthly Accuracy for Serial No 5: -80.2379\n",
      "\n",
      "▶ Serial_no5: Trying config 10/12: {'changepoint_prior_scale': 0.1, 'n_changepoints': 10, 'seasonality_mode': 'additive', 'seasonality_prior_scale': 5.0}\n",
      "Monthly Accuracy for Serial No 5: -80.2379\n",
      "\n",
      "▶ Serial_no5: Trying config 11/12: {'changepoint_prior_scale': 0.1, 'n_changepoints': 20, 'seasonality_mode': 'additive', 'seasonality_prior_scale': 1.0}\n"
     ]
    },
    {
     "name": "stderr",
     "output_type": "stream",
     "text": [
      "03:49:56 - cmdstanpy - INFO - Chain [1] start processing\n",
      "03:49:56 - cmdstanpy - INFO - Chain [1] done processing\n"
     ]
    },
    {
     "name": "stdout",
     "output_type": "stream",
     "text": [
      "Monthly Accuracy for Serial No 5: -79.9796\n",
      "\n",
      "▶ Serial_no5: Trying config 12/12: {'changepoint_prior_scale': 0.1, 'n_changepoints': 20, 'seasonality_mode': 'additive', 'seasonality_prior_scale': 5.0}\n",
      "Monthly Accuracy for Serial No 5: -79.9796\n",
      "\n",
      "Serial_no:5 Best Parameters: {'changepoint_prior_scale': 0.05, 'n_changepoints': 20, 'seasonality_mode': 'additive', 'seasonality_prior_scale': 1.0}\n",
      "Serial_no:5 Best Monthly Validation Accuracy: -78.6222\n",
      "\n",
      "==================================================\n",
      "\n"
     ]
    }
   ],
   "source": [
    "# Loop through all unique serial numbers and run Prophet forecasting for each hyperparameter configuration\n",
    "\n",
    "for serial in serial_nums:\n",
    "    # Prepare data for this serial number\n",
    "    df_serial = df[df['serial_num'] == serial][['weekend_date', 'quantity']].rename(columns={\n",
    "        'weekend_date': 'ds',\n",
    "        'quantity': 'y'\n",
    "    })\n",
    "    df_serial = df_serial.groupby('ds', as_index=False).agg({'y': 'sum'})\n",
    "\n",
    "    # Split train/val\n",
    "    train_df = df_serial[df_serial['ds'] < '2024-06-01']\n",
    "    val_df = df_serial[(df_serial['ds'] >= '2024-06-01') & (df_serial['ds'] < '2024-09-01')]\n",
    "\n",
    "\n",
    "    # 1. Define safer hyperparameter search space\n",
    "    param_grid = {\n",
    "    'changepoint_prior_scale': [0.01, 0.05, 0.1],         # Moderate flexibility\n",
    "    'seasonality_prior_scale': [1.0, 5.0],                # Typical values\n",
    "    'seasonality_mode': ['additive'],                     # Simpler and more stable\n",
    "    'n_changepoints': [10, 20]                            # Low changepoints = stable fit\n",
    "    }\n",
    "    grid = list(ParameterGrid(param_grid))\n",
    "\n",
    "    def monthly_accuracy(y_true, y_pred, dates):\n",
    "        df = pd.DataFrame({'ds': dates, 'y': y_true, 'yhat': y_pred})\n",
    "        df['ds'] = pd.to_datetime(df['ds'])\n",
    "        df['month'] = pd.to_datetime(df['ds']).dt.month\n",
    "        df['year'] = pd.to_datetime(df['ds']).dt.year\n",
    "        df = df[(df['year'] == 2024) & (df['month'].isin([6, 7, 8]))]\n",
    "        acc_df = df.groupby('month').apply(\n",
    "        lambda x: 1 - (np.abs(x['yhat'] - x['y']).sum() / x['y'].sum())\n",
    "        )\n",
    "        return acc_df.mean()  # Average accuracy over months\n",
    "\n",
    "    \n",
    "\n",
    "    # 4. Grid search\n",
    "    best_score = -np.inf\n",
    "    best_params = None\n",
    "\n",
    "    for i, params in enumerate(grid):\n",
    "        print(f\"\\n▶ Serial_no{serial}: Trying config {i+1}/{len(grid)}: {params}\")\n",
    "    \n",
    "        model = Prophet(\n",
    "            changepoint_prior_scale=params['changepoint_prior_scale'],\n",
    "            seasonality_prior_scale=params['seasonality_prior_scale'],\n",
    "            seasonality_mode=params['seasonality_mode'],\n",
    "            n_changepoints=params['n_changepoints'],\n",
    "            uncertainty_samples=0  # Avoids sampling\n",
    "        )\n",
    "    \n",
    "        model.fit(train_df)\n",
    "\n",
    "        # Predict over future matching val_df\n",
    "        future = model.make_future_dataframe(periods=len(val_df), freq='W-SAT')\n",
    "        forecast = model.predict(future)\n",
    "\n",
    "        # Align predictions with val_df\n",
    "        val_pred_df = forecast[forecast['ds'].isin(val_df['ds'])]\n",
    "        val_merged = pd.merge(val_df, val_pred_df[['ds', 'yhat']], on='ds', how='left')\n",
    "\n",
    "        # Evaluate monthly accuracy\n",
    "        acc = monthly_accuracy(val_merged['y'], val_merged['yhat'], val_merged['ds'])\n",
    "\n",
    "        print(f\"Monthly Accuracy for Serial No {serial}: {acc:.4f}\")\n",
    "\n",
    "        # Keep best config\n",
    "        if acc > best_score:\n",
    "            best_score = acc\n",
    "            best_params = params\n",
    "            # Save best model\n",
    "            joblib.dump(model, f'Validation_Models/validation_bestmodel_Serial_no{serial}.pkl')\n",
    "    \n",
    "    # 5. Print final result\n",
    "    print(f\"\\nSerial_no:{serial} Best Parameters:\", best_params)\n",
    "    print(f\"Serial_no:{serial} Best Monthly Validation Accuracy: {best_score:.4f}\")\n",
    "    print(\"\\n\" + \"=\"*50 + \"\\n\")\n",
    "\n",
    "   "
   ]
  },
  {
   "cell_type": "code",
   "execution_count": null,
   "id": "8f3a1554",
   "metadata": {},
   "outputs": [],
   "source": []
  },
  {
   "cell_type": "markdown",
   "id": "7007eb34",
   "metadata": {},
   "source": [
    "# *Now to forecast the next 3 months quantity i.e september, october and november 2024, using the saved .pkl best models for each Serial_No*"
   ]
  },
  {
   "cell_type": "markdown",
   "id": "f8af3bc7",
   "metadata": {},
   "source": [
    "# *For Serial 1 Model Forecast for Sep to Nov 2024*"
   ]
  },
  {
   "cell_type": "code",
   "execution_count": 260,
   "id": "62e7c1fe",
   "metadata": {},
   "outputs": [],
   "source": [
    "import joblib  # or import pickle if you used that\n",
    "\n",
    "# Load the trained Prophet model\n",
    "model = joblib.load(\"Final_Models (pkl_files)/prophet_bestmodel_Serial_no1.pkl\") "
   ]
  },
  {
   "cell_type": "code",
   "execution_count": 261,
   "id": "b1d55bf7",
   "metadata": {},
   "outputs": [],
   "source": [
    "# Extend the time range to forecast next 28 weeks (~6 months)\n",
    "future = model.make_future_dataframe(periods=28, freq='W')  # Weekly frequency\n"
   ]
  },
  {
   "cell_type": "code",
   "execution_count": 262,
   "id": "c3c2cd07",
   "metadata": {},
   "outputs": [
    {
     "data": {
      "text/html": [
       "<div>\n",
       "<style scoped>\n",
       "    .dataframe tbody tr th:only-of-type {\n",
       "        vertical-align: middle;\n",
       "    }\n",
       "\n",
       "    .dataframe tbody tr th {\n",
       "        vertical-align: top;\n",
       "    }\n",
       "\n",
       "    .dataframe thead th {\n",
       "        text-align: right;\n",
       "    }\n",
       "</style>\n",
       "<table border=\"1\" class=\"dataframe\">\n",
       "  <thead>\n",
       "    <tr style=\"text-align: right;\">\n",
       "      <th></th>\n",
       "      <th>ds</th>\n",
       "      <th>yhat</th>\n",
       "    </tr>\n",
       "  </thead>\n",
       "  <tbody>\n",
       "    <tr>\n",
       "      <th>118</th>\n",
       "      <td>2024-09-01</td>\n",
       "      <td>25.814265</td>\n",
       "    </tr>\n",
       "    <tr>\n",
       "      <th>119</th>\n",
       "      <td>2024-09-08</td>\n",
       "      <td>24.879003</td>\n",
       "    </tr>\n",
       "    <tr>\n",
       "      <th>120</th>\n",
       "      <td>2024-09-15</td>\n",
       "      <td>23.943742</td>\n",
       "    </tr>\n",
       "    <tr>\n",
       "      <th>121</th>\n",
       "      <td>2024-09-22</td>\n",
       "      <td>23.008480</td>\n",
       "    </tr>\n",
       "    <tr>\n",
       "      <th>122</th>\n",
       "      <td>2024-09-29</td>\n",
       "      <td>22.073219</td>\n",
       "    </tr>\n",
       "    <tr>\n",
       "      <th>123</th>\n",
       "      <td>2024-10-06</td>\n",
       "      <td>21.137957</td>\n",
       "    </tr>\n",
       "    <tr>\n",
       "      <th>124</th>\n",
       "      <td>2024-10-13</td>\n",
       "      <td>20.202696</td>\n",
       "    </tr>\n",
       "    <tr>\n",
       "      <th>125</th>\n",
       "      <td>2024-10-20</td>\n",
       "      <td>19.267434</td>\n",
       "    </tr>\n",
       "    <tr>\n",
       "      <th>126</th>\n",
       "      <td>2024-10-27</td>\n",
       "      <td>18.332173</td>\n",
       "    </tr>\n",
       "    <tr>\n",
       "      <th>127</th>\n",
       "      <td>2024-11-03</td>\n",
       "      <td>17.396911</td>\n",
       "    </tr>\n",
       "    <tr>\n",
       "      <th>128</th>\n",
       "      <td>2024-11-10</td>\n",
       "      <td>16.461650</td>\n",
       "    </tr>\n",
       "    <tr>\n",
       "      <th>129</th>\n",
       "      <td>2024-11-17</td>\n",
       "      <td>15.526388</td>\n",
       "    </tr>\n",
       "    <tr>\n",
       "      <th>130</th>\n",
       "      <td>2024-11-24</td>\n",
       "      <td>14.591127</td>\n",
       "    </tr>\n",
       "  </tbody>\n",
       "</table>\n",
       "</div>"
      ],
      "text/plain": [
       "            ds       yhat\n",
       "118 2024-09-01  25.814265\n",
       "119 2024-09-08  24.879003\n",
       "120 2024-09-15  23.943742\n",
       "121 2024-09-22  23.008480\n",
       "122 2024-09-29  22.073219\n",
       "123 2024-10-06  21.137957\n",
       "124 2024-10-13  20.202696\n",
       "125 2024-10-20  19.267434\n",
       "126 2024-10-27  18.332173\n",
       "127 2024-11-03  17.396911\n",
       "128 2024-11-10  16.461650\n",
       "129 2024-11-17  15.526388\n",
       "130 2024-11-24  14.591127"
      ]
     },
     "execution_count": 262,
     "metadata": {},
     "output_type": "execute_result"
    }
   ],
   "source": [
    "forecast = model.predict(future)\n",
    "\n",
    "# Filter only for the forecasted Sep–Nov range\n",
    "forecast_result = forecast[(forecast['ds'] >= '2024-09-01') & (forecast['ds'] <= '2024-11-30')]\n",
    "\n",
    "# Display relevant forecast columns\n",
    "forecast_result[['ds', 'yhat']]"
   ]
  },
  {
   "cell_type": "code",
   "execution_count": 263,
   "id": "d381a5b5",
   "metadata": {},
   "outputs": [
    {
     "name": "stdout",
     "output_type": "stream",
     "text": [
      "Figure(1000x600)\n"
     ]
    },
    {
     "data": {
      "image/png": "[encoded data removed]",
      "text/plain": [
       "<Figure size 1000x600 with 1 Axes>"
      ]
     },
     "metadata": {},
     "output_type": "display_data"
    }
   ],
   "source": [
    "# Plot the entire forecast including Sep–0ct-Nov 2024 for Serial no 1 quantites\n",
    "print(model.plot(forecast))\n"
   ]
  },
  {
   "cell_type": "markdown",
   "id": "95e4b4ae",
   "metadata": {},
   "source": [
    "# *Forecast result saved in output folder*"
   ]
  },
  {
   "cell_type": "code",
   "execution_count": null,
   "id": "de9eb780",
   "metadata": {},
   "outputs": [],
   "source": [
    "# Save forecast results for Sep–Nov\n",
    "forecast_result[['ds', 'yhat']].to_csv(\"Forecast output (csv_files)/forecast_sep_oct_nov_2024_Model_Serial_No_1.csv\", index=False)\n"
   ]
  },
  {
   "cell_type": "markdown",
   "id": "2c929ae5",
   "metadata": {},
   "source": [
    "# *For Serial Number 2*"
   ]
  },
  {
   "cell_type": "code",
   "execution_count": 264,
   "id": "4ff6ec00",
   "metadata": {},
   "outputs": [
    {
     "data": {
      "text/html": [
       "<div>\n",
       "<style scoped>\n",
       "    .dataframe tbody tr th:only-of-type {\n",
       "        vertical-align: middle;\n",
       "    }\n",
       "\n",
       "    .dataframe tbody tr th {\n",
       "        vertical-align: top;\n",
       "    }\n",
       "\n",
       "    .dataframe thead th {\n",
       "        text-align: right;\n",
       "    }\n",
       "</style>\n",
       "<table border=\"1\" class=\"dataframe\">\n",
       "  <thead>\n",
       "    <tr style=\"text-align: right;\">\n",
       "      <th></th>\n",
       "      <th>ds</th>\n",
       "      <th>yhat</th>\n",
       "    </tr>\n",
       "  </thead>\n",
       "  <tbody>\n",
       "    <tr>\n",
       "      <th>110</th>\n",
       "      <td>2024-09-01</td>\n",
       "      <td>307.329337</td>\n",
       "    </tr>\n",
       "    <tr>\n",
       "      <th>111</th>\n",
       "      <td>2024-09-08</td>\n",
       "      <td>308.041677</td>\n",
       "    </tr>\n",
       "    <tr>\n",
       "      <th>112</th>\n",
       "      <td>2024-09-15</td>\n",
       "      <td>308.754017</td>\n",
       "    </tr>\n",
       "    <tr>\n",
       "      <th>113</th>\n",
       "      <td>2024-09-22</td>\n",
       "      <td>309.466357</td>\n",
       "    </tr>\n",
       "    <tr>\n",
       "      <th>114</th>\n",
       "      <td>2024-09-29</td>\n",
       "      <td>310.178698</td>\n",
       "    </tr>\n",
       "    <tr>\n",
       "      <th>115</th>\n",
       "      <td>2024-10-06</td>\n",
       "      <td>310.891038</td>\n",
       "    </tr>\n",
       "    <tr>\n",
       "      <th>116</th>\n",
       "      <td>2024-10-13</td>\n",
       "      <td>311.603378</td>\n",
       "    </tr>\n",
       "    <tr>\n",
       "      <th>117</th>\n",
       "      <td>2024-10-20</td>\n",
       "      <td>312.315718</td>\n",
       "    </tr>\n",
       "    <tr>\n",
       "      <th>118</th>\n",
       "      <td>2024-10-27</td>\n",
       "      <td>313.028058</td>\n",
       "    </tr>\n",
       "    <tr>\n",
       "      <th>119</th>\n",
       "      <td>2024-11-03</td>\n",
       "      <td>313.740398</td>\n",
       "    </tr>\n",
       "    <tr>\n",
       "      <th>120</th>\n",
       "      <td>2024-11-10</td>\n",
       "      <td>314.452738</td>\n",
       "    </tr>\n",
       "    <tr>\n",
       "      <th>121</th>\n",
       "      <td>2024-11-17</td>\n",
       "      <td>315.165078</td>\n",
       "    </tr>\n",
       "    <tr>\n",
       "      <th>122</th>\n",
       "      <td>2024-11-24</td>\n",
       "      <td>315.877419</td>\n",
       "    </tr>\n",
       "  </tbody>\n",
       "</table>\n",
       "</div>"
      ],
      "text/plain": [
       "            ds        yhat\n",
       "110 2024-09-01  307.329337\n",
       "111 2024-09-08  308.041677\n",
       "112 2024-09-15  308.754017\n",
       "113 2024-09-22  309.466357\n",
       "114 2024-09-29  310.178698\n",
       "115 2024-10-06  310.891038\n",
       "116 2024-10-13  311.603378\n",
       "117 2024-10-20  312.315718\n",
       "118 2024-10-27  313.028058\n",
       "119 2024-11-03  313.740398\n",
       "120 2024-11-10  314.452738\n",
       "121 2024-11-17  315.165078\n",
       "122 2024-11-24  315.877419"
      ]
     },
     "execution_count": 264,
     "metadata": {},
     "output_type": "execute_result"
    }
   ],
   "source": [
    "import joblib  # or import pickle if you used that\n",
    "\n",
    "# Load the trained Prophet model\n",
    "model = joblib.load(\"Final_Models (pkl_files)/prophet_bestmodel_Serial_no2.pkl\") \n",
    "\n",
    "\n",
    "# Extend the time range to forecast next 28 weeks (~6 months)\n",
    "future = model.make_future_dataframe(periods=28, freq='W')  # Weekly frequency\n",
    "\n",
    "\n",
    "forecast = model.predict(future)\n",
    "\n",
    "# Filter only for the forecasted Sep–Nov range\n",
    "forecast_result = forecast[(forecast['ds'] >= '2024-09-01') & (forecast['ds'] <= '2024-11-30')]\n",
    "\n",
    "# Display relevant forecast columns\n",
    "forecast_result[['ds', 'yhat']]"
   ]
  },
  {
   "cell_type": "code",
   "execution_count": 265,
   "id": "43938d4e",
   "metadata": {},
   "outputs": [
    {
     "name": "stdout",
     "output_type": "stream",
     "text": [
      "Figure(1000x600)\n"
     ]
    },
    {
     "data": {
      "image/png": "[encoded data removed]",
      "text/plain": [
       "<Figure size 1000x600 with 1 Axes>"
      ]
     },
     "metadata": {},
     "output_type": "display_data"
    }
   ],
   "source": [
    "# Plot the entire forecast including Sep-oct-Nov for Serial no 2 quantites\n",
    "print(model.plot(forecast))\n"
   ]
  },
  {
   "cell_type": "code",
   "execution_count": 266,
   "id": "7d2887b4",
   "metadata": {},
   "outputs": [],
   "source": [
    "# Save forecast results for Sep–Nov\n",
    "forecast_result[['ds', 'yhat']].to_csv(\"Forecast output (csv_files)/forecast_sep_oct_nov_2024_Model_Serial_No_2.csv\", index=False)\n"
   ]
  },
  {
   "cell_type": "markdown",
   "id": "664584ee",
   "metadata": {},
   "source": [
    "# *For Serial No 3 Model*"
   ]
  },
  {
   "cell_type": "code",
   "execution_count": 267,
   "id": "abe5634a",
   "metadata": {},
   "outputs": [
    {
     "data": {
      "text/html": [
       "<div>\n",
       "<style scoped>\n",
       "    .dataframe tbody tr th:only-of-type {\n",
       "        vertical-align: middle;\n",
       "    }\n",
       "\n",
       "    .dataframe tbody tr th {\n",
       "        vertical-align: top;\n",
       "    }\n",
       "\n",
       "    .dataframe thead th {\n",
       "        text-align: right;\n",
       "    }\n",
       "</style>\n",
       "<table border=\"1\" class=\"dataframe\">\n",
       "  <thead>\n",
       "    <tr style=\"text-align: right;\">\n",
       "      <th></th>\n",
       "      <th>ds</th>\n",
       "      <th>yhat</th>\n",
       "    </tr>\n",
       "  </thead>\n",
       "  <tbody>\n",
       "    <tr>\n",
       "      <th>107</th>\n",
       "      <td>2024-09-01</td>\n",
       "      <td>36.940682</td>\n",
       "    </tr>\n",
       "    <tr>\n",
       "      <th>108</th>\n",
       "      <td>2024-09-08</td>\n",
       "      <td>23.087937</td>\n",
       "    </tr>\n",
       "    <tr>\n",
       "      <th>109</th>\n",
       "      <td>2024-09-15</td>\n",
       "      <td>9.235192</td>\n",
       "    </tr>\n",
       "    <tr>\n",
       "      <th>110</th>\n",
       "      <td>2024-09-22</td>\n",
       "      <td>-4.617552</td>\n",
       "    </tr>\n",
       "    <tr>\n",
       "      <th>111</th>\n",
       "      <td>2024-09-29</td>\n",
       "      <td>-18.470297</td>\n",
       "    </tr>\n",
       "    <tr>\n",
       "      <th>112</th>\n",
       "      <td>2024-10-06</td>\n",
       "      <td>-32.323042</td>\n",
       "    </tr>\n",
       "    <tr>\n",
       "      <th>113</th>\n",
       "      <td>2024-10-13</td>\n",
       "      <td>-46.175787</td>\n",
       "    </tr>\n",
       "    <tr>\n",
       "      <th>114</th>\n",
       "      <td>2024-10-20</td>\n",
       "      <td>-60.028532</td>\n",
       "    </tr>\n",
       "    <tr>\n",
       "      <th>115</th>\n",
       "      <td>2024-10-27</td>\n",
       "      <td>-73.881277</td>\n",
       "    </tr>\n",
       "    <tr>\n",
       "      <th>116</th>\n",
       "      <td>2024-11-03</td>\n",
       "      <td>-87.734022</td>\n",
       "    </tr>\n",
       "    <tr>\n",
       "      <th>117</th>\n",
       "      <td>2024-11-10</td>\n",
       "      <td>-101.586767</td>\n",
       "    </tr>\n",
       "    <tr>\n",
       "      <th>118</th>\n",
       "      <td>2024-11-17</td>\n",
       "      <td>-115.439512</td>\n",
       "    </tr>\n",
       "    <tr>\n",
       "      <th>119</th>\n",
       "      <td>2024-11-24</td>\n",
       "      <td>-129.292256</td>\n",
       "    </tr>\n",
       "  </tbody>\n",
       "</table>\n",
       "</div>"
      ],
      "text/plain": [
       "            ds        yhat\n",
       "107 2024-09-01   36.940682\n",
       "108 2024-09-08   23.087937\n",
       "109 2024-09-15    9.235192\n",
       "110 2024-09-22   -4.617552\n",
       "111 2024-09-29  -18.470297\n",
       "112 2024-10-06  -32.323042\n",
       "113 2024-10-13  -46.175787\n",
       "114 2024-10-20  -60.028532\n",
       "115 2024-10-27  -73.881277\n",
       "116 2024-11-03  -87.734022\n",
       "117 2024-11-10 -101.586767\n",
       "118 2024-11-17 -115.439512\n",
       "119 2024-11-24 -129.292256"
      ]
     },
     "execution_count": 267,
     "metadata": {},
     "output_type": "execute_result"
    }
   ],
   "source": [
    "import joblib  # or import pickle if you used that\n",
    "\n",
    "# Load the trained Prophet model\n",
    "model = joblib.load(\"Final_Models (pkl_files)/prophet_bestmodel_Serial_no3.pkl\") \n",
    "\n",
    "\n",
    "# Extend the time range to forecast next 28 weeks (~6 months)\n",
    "future = model.make_future_dataframe(periods=28, freq='W')  # Weekly frequency\n",
    "\n",
    "\n",
    "forecast = model.predict(future)\n",
    "\n",
    "# Filter only for the forecasted Sep–Nov range\n",
    "forecast_result = forecast[(forecast['ds'] >= '2024-09-01') & (forecast['ds'] <= '2024-11-30')]\n",
    "\n",
    "# Display relevant forecast columns\n",
    "forecast_result[['ds', 'yhat']]"
   ]
  },
  {
   "cell_type": "code",
   "execution_count": 268,
   "id": "e9d4529f",
   "metadata": {},
   "outputs": [
    {
     "name": "stdout",
     "output_type": "stream",
     "text": [
      "Figure(1000x600)\n"
     ]
    },
    {
     "data": {
      "image/png": "[encoded data removed]",
      "text/plain": [
       "<Figure size 1000x600 with 1 Axes>"
      ]
     },
     "metadata": {},
     "output_type": "display_data"
    }
   ],
   "source": [
    "print(model.plot(forecast))"
   ]
  },
  {
   "cell_type": "code",
   "execution_count": 269,
   "id": "d1183ddb",
   "metadata": {},
   "outputs": [],
   "source": [
    "# Save forecast results for Sep–Nov\n",
    "forecast_result[['ds', 'yhat']].to_csv(\"Forecast output (csv_files)/forecast_sep_oct_nov_2024_Model_Serial_No_3.csv\", index=False)"
   ]
  },
  {
   "cell_type": "markdown",
   "id": "dec6cf5c",
   "metadata": {},
   "source": [
    "# *For Serial No 4 Model*"
   ]
  },
  {
   "cell_type": "code",
   "execution_count": 271,
   "id": "08fbcb91",
   "metadata": {},
   "outputs": [
    {
     "data": {
      "text/html": [
       "<div>\n",
       "<style scoped>\n",
       "    .dataframe tbody tr th:only-of-type {\n",
       "        vertical-align: middle;\n",
       "    }\n",
       "\n",
       "    .dataframe tbody tr th {\n",
       "        vertical-align: top;\n",
       "    }\n",
       "\n",
       "    .dataframe thead th {\n",
       "        text-align: right;\n",
       "    }\n",
       "</style>\n",
       "<table border=\"1\" class=\"dataframe\">\n",
       "  <thead>\n",
       "    <tr style=\"text-align: right;\">\n",
       "      <th></th>\n",
       "      <th>ds</th>\n",
       "      <th>yhat</th>\n",
       "    </tr>\n",
       "  </thead>\n",
       "  <tbody>\n",
       "    <tr>\n",
       "      <th>85</th>\n",
       "      <td>2024-09-01</td>\n",
       "      <td>3181.717998</td>\n",
       "    </tr>\n",
       "    <tr>\n",
       "      <th>86</th>\n",
       "      <td>2024-09-08</td>\n",
       "      <td>3209.674415</td>\n",
       "    </tr>\n",
       "    <tr>\n",
       "      <th>87</th>\n",
       "      <td>2024-09-15</td>\n",
       "      <td>3237.630832</td>\n",
       "    </tr>\n",
       "    <tr>\n",
       "      <th>88</th>\n",
       "      <td>2024-09-22</td>\n",
       "      <td>3265.587249</td>\n",
       "    </tr>\n",
       "    <tr>\n",
       "      <th>89</th>\n",
       "      <td>2024-09-29</td>\n",
       "      <td>3293.543665</td>\n",
       "    </tr>\n",
       "    <tr>\n",
       "      <th>90</th>\n",
       "      <td>2024-10-06</td>\n",
       "      <td>3321.500082</td>\n",
       "    </tr>\n",
       "    <tr>\n",
       "      <th>91</th>\n",
       "      <td>2024-10-13</td>\n",
       "      <td>3349.456499</td>\n",
       "    </tr>\n",
       "    <tr>\n",
       "      <th>92</th>\n",
       "      <td>2024-10-20</td>\n",
       "      <td>3377.412916</td>\n",
       "    </tr>\n",
       "    <tr>\n",
       "      <th>93</th>\n",
       "      <td>2024-10-27</td>\n",
       "      <td>3405.369332</td>\n",
       "    </tr>\n",
       "    <tr>\n",
       "      <th>94</th>\n",
       "      <td>2024-11-03</td>\n",
       "      <td>3433.325749</td>\n",
       "    </tr>\n",
       "    <tr>\n",
       "      <th>95</th>\n",
       "      <td>2024-11-10</td>\n",
       "      <td>3461.282166</td>\n",
       "    </tr>\n",
       "    <tr>\n",
       "      <th>96</th>\n",
       "      <td>2024-11-17</td>\n",
       "      <td>3489.238583</td>\n",
       "    </tr>\n",
       "    <tr>\n",
       "      <th>97</th>\n",
       "      <td>2024-11-24</td>\n",
       "      <td>3517.195000</td>\n",
       "    </tr>\n",
       "  </tbody>\n",
       "</table>\n",
       "</div>"
      ],
      "text/plain": [
       "           ds         yhat\n",
       "85 2024-09-01  3181.717998\n",
       "86 2024-09-08  3209.674415\n",
       "87 2024-09-15  3237.630832\n",
       "88 2024-09-22  3265.587249\n",
       "89 2024-09-29  3293.543665\n",
       "90 2024-10-06  3321.500082\n",
       "91 2024-10-13  3349.456499\n",
       "92 2024-10-20  3377.412916\n",
       "93 2024-10-27  3405.369332\n",
       "94 2024-11-03  3433.325749\n",
       "95 2024-11-10  3461.282166\n",
       "96 2024-11-17  3489.238583\n",
       "97 2024-11-24  3517.195000"
      ]
     },
     "execution_count": 271,
     "metadata": {},
     "output_type": "execute_result"
    }
   ],
   "source": [
    "import joblib  # or import pickle if you used that\n",
    "\n",
    "# Load the trained Prophet model\n",
    "model = joblib.load(\"Final_Models (pkl_files)/prophet_bestmodel_Serial_no4.pkl\") \n",
    "\n",
    "\n",
    "# Extend the time range to forecast next 28 weeks (~6 months)\n",
    "future = model.make_future_dataframe(periods=28, freq='W')  # Weekly frequency\n",
    "\n",
    "\n",
    "forecast = model.predict(future)\n",
    "\n",
    "# Filter only for the forecasted Sep–Nov range\n",
    "forecast_result = forecast[(forecast['ds'] >= '2024-09-01') & (forecast['ds'] <= '2024-11-30')]\n",
    "\n",
    "# Display relevant forecast columns\n",
    "forecast_result[['ds', 'yhat']]"
   ]
  },
  {
   "cell_type": "code",
   "execution_count": 272,
   "id": "b38d15bf",
   "metadata": {},
   "outputs": [
    {
     "name": "stdout",
     "output_type": "stream",
     "text": [
      "Figure(1000x600)\n"
     ]
    },
    {
     "data": {
      "image/png": "[encoded data removed]",
      "text/plain": [
       "<Figure size 1000x600 with 1 Axes>"
      ]
     },
     "metadata": {},
     "output_type": "display_data"
    }
   ],
   "source": [
    "print(model.plot(forecast))"
   ]
  },
  {
   "cell_type": "code",
   "execution_count": 273,
   "id": "909e0c82",
   "metadata": {},
   "outputs": [],
   "source": [
    "# Save forecast results for Sep–Nov\n",
    "forecast_result[['ds', 'yhat']].to_csv(\"Forecast output (csv_files)/forecast_sep_oct_nov_2024_Model_Serial_No_4.csv\", index=False)"
   ]
  },
  {
   "cell_type": "markdown",
   "id": "ed3c7e80",
   "metadata": {},
   "source": [
    "# *For Serial No 5 Model*"
   ]
  },
  {
   "cell_type": "code",
   "execution_count": 274,
   "id": "38859f2f",
   "metadata": {},
   "outputs": [
    {
     "data": {
      "text/html": [
       "<div>\n",
       "<style scoped>\n",
       "    .dataframe tbody tr th:only-of-type {\n",
       "        vertical-align: middle;\n",
       "    }\n",
       "\n",
       "    .dataframe tbody tr th {\n",
       "        vertical-align: top;\n",
       "    }\n",
       "\n",
       "    .dataframe thead th {\n",
       "        text-align: right;\n",
       "    }\n",
       "</style>\n",
       "<table border=\"1\" class=\"dataframe\">\n",
       "  <thead>\n",
       "    <tr style=\"text-align: right;\">\n",
       "      <th></th>\n",
       "      <th>ds</th>\n",
       "      <th>yhat</th>\n",
       "    </tr>\n",
       "  </thead>\n",
       "  <tbody>\n",
       "    <tr>\n",
       "      <th>118</th>\n",
       "      <td>2024-09-01</td>\n",
       "      <td>225.416602</td>\n",
       "    </tr>\n",
       "    <tr>\n",
       "      <th>119</th>\n",
       "      <td>2024-09-08</td>\n",
       "      <td>223.940332</td>\n",
       "    </tr>\n",
       "    <tr>\n",
       "      <th>120</th>\n",
       "      <td>2024-09-15</td>\n",
       "      <td>222.464063</td>\n",
       "    </tr>\n",
       "    <tr>\n",
       "      <th>121</th>\n",
       "      <td>2024-09-22</td>\n",
       "      <td>220.987793</td>\n",
       "    </tr>\n",
       "    <tr>\n",
       "      <th>122</th>\n",
       "      <td>2024-09-29</td>\n",
       "      <td>219.511523</td>\n",
       "    </tr>\n",
       "    <tr>\n",
       "      <th>123</th>\n",
       "      <td>2024-10-06</td>\n",
       "      <td>218.035254</td>\n",
       "    </tr>\n",
       "    <tr>\n",
       "      <th>124</th>\n",
       "      <td>2024-10-13</td>\n",
       "      <td>216.558984</td>\n",
       "    </tr>\n",
       "    <tr>\n",
       "      <th>125</th>\n",
       "      <td>2024-10-20</td>\n",
       "      <td>215.082714</td>\n",
       "    </tr>\n",
       "    <tr>\n",
       "      <th>126</th>\n",
       "      <td>2024-10-27</td>\n",
       "      <td>213.606445</td>\n",
       "    </tr>\n",
       "    <tr>\n",
       "      <th>127</th>\n",
       "      <td>2024-11-03</td>\n",
       "      <td>212.130175</td>\n",
       "    </tr>\n",
       "    <tr>\n",
       "      <th>128</th>\n",
       "      <td>2024-11-10</td>\n",
       "      <td>210.653905</td>\n",
       "    </tr>\n",
       "    <tr>\n",
       "      <th>129</th>\n",
       "      <td>2024-11-17</td>\n",
       "      <td>209.177635</td>\n",
       "    </tr>\n",
       "    <tr>\n",
       "      <th>130</th>\n",
       "      <td>2024-11-24</td>\n",
       "      <td>207.701366</td>\n",
       "    </tr>\n",
       "  </tbody>\n",
       "</table>\n",
       "</div>"
      ],
      "text/plain": [
       "            ds        yhat\n",
       "118 2024-09-01  225.416602\n",
       "119 2024-09-08  223.940332\n",
       "120 2024-09-15  222.464063\n",
       "121 2024-09-22  220.987793\n",
       "122 2024-09-29  219.511523\n",
       "123 2024-10-06  218.035254\n",
       "124 2024-10-13  216.558984\n",
       "125 2024-10-20  215.082714\n",
       "126 2024-10-27  213.606445\n",
       "127 2024-11-03  212.130175\n",
       "128 2024-11-10  210.653905\n",
       "129 2024-11-17  209.177635\n",
       "130 2024-11-24  207.701366"
      ]
     },
     "execution_count": 274,
     "metadata": {},
     "output_type": "execute_result"
    }
   ],
   "source": [
    "import joblib  # or import pickle if you used that\n",
    "\n",
    "# Load the trained Prophet model\n",
    "model = joblib.load(\"Final_Models (pkl_files)/prophet_bestmodel_Serial_no5.pkl\") \n",
    "\n",
    "\n",
    "# Extend the time range to forecast next 28 weeks (~6 months)\n",
    "future = model.make_future_dataframe(periods=28, freq='W')  # Weekly frequency\n",
    "\n",
    "\n",
    "forecast = model.predict(future)\n",
    "\n",
    "# Filter only for the forecasted Sep–Nov range\n",
    "forecast_result = forecast[(forecast['ds'] >= '2024-09-01') & (forecast['ds'] <= '2024-11-30')]\n",
    "\n",
    "# Display relevant forecast columns\n",
    "forecast_result[['ds', 'yhat']]"
   ]
  },
  {
   "cell_type": "code",
   "execution_count": 275,
   "id": "ada98478",
   "metadata": {},
   "outputs": [
    {
     "name": "stdout",
     "output_type": "stream",
     "text": [
      "Figure(1000x600)\n"
     ]
    },
    {
     "data": {
      "image/png": "[encoded data removed]",
      "text/plain": [
       "<Figure size 1000x600 with 1 Axes>"
      ]
     },
     "metadata": {},
     "output_type": "display_data"
    }
   ],
   "source": [
    "print(model.plot(forecast))"
   ]
  },
  {
   "cell_type": "code",
   "execution_count": null,
   "id": "30d15d82",
   "metadata": {},
   "outputs": [],
   "source": [
    "# Save forecast results for Sep–Nov\n",
    "forecast_result[['ds', 'yhat']].to_csv(\"Forecast output (csv_files)/forecast_sep_oct_nov_2024_Model_Serial_No_5.csv\", index=False)"
   ]
  },
  {
   "cell_type": "code",
   "execution_count": null,
   "id": "0924ad1f",
   "metadata": {},
   "outputs": [],
   "source": []
  },
  {
   "cell_type": "code",
   "execution_count": null,
   "id": "dfd2418f",
   "metadata": {},
   "outputs": [],
   "source": []
  },
  {
   "cell_type": "code",
   "execution_count": null,
   "id": "5af95217",
   "metadata": {},
   "outputs": [],
   "source": []
  },
  {
   "cell_type": "markdown",
   "id": "b3e28b0b",
   "metadata": {},
   "source": []
  }
 ],
 "metadata": {
  "kernelspec": {
   "display_name": "Python (venv)",
   "language": "python",
   "name": "venv"
  },
  "language_info": {
   "codemirror_mode": {
    "name": "ipython",
    "version": 3
   },
   "file_extension": ".py",
   "mimetype": "text/x-python",
   "name": "python",
   "nbconvert_exporter": "python",
   "pygments_lexer": "ipython3",
   "version": "3.12.9"
  }
 },
 "nbformat": 4,
 "nbformat_minor": 5
}
